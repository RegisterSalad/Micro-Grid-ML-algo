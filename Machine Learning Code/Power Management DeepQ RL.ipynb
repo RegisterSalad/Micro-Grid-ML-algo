{
 "cells": [
  {
   "cell_type": "markdown",
   "metadata": {},
   "source": [
    "# Central RL control notebook"
   ]
  },
  {
   "cell_type": "code",
   "execution_count": null,
   "metadata": {},
   "outputs": [],
   "source": [
    "import sys\n",
    "from pymgrid import MicrogridGenerator as mg\n",
    "import matplotlib.pyplot as plt\n",
    "import numpy as np\n",
    "import os\n",
    "import time\n",
    "from IPython.display import display,clear_output\n",
    "import pandas as pd\n",
    "from Storage import StorageSuite as st\n",
    "from pathlib import Path\n",
    "from math import e\n",
    "from time import sleep\n",
    "from DQNEnv import DQAgent\n",
    "import pickle as pkl\n",
    "import random"
   ]
  },
  {
   "cell_type": "markdown",
   "metadata": {},
   "source": [
    "Time span constants"
   ]
  },
  {
   "cell_type": "code",
   "execution_count": null,
   "metadata": {},
   "outputs": [],
   "source": [
    "HOUR = 4 # 15 Min intervals in an hour\n",
    "DAY = 96 # Number of 15 Min intervals in day\n",
    "MONTH = 2_924 # Number of 15 Min intervals in month\n",
    "YEAR =35_088 # Number of 15 Min intervals in year (non-leap)\n",
    "ZERO = 10**-5"
   ]
  },
  {
   "cell_type": "markdown",
   "metadata": {},
   "source": [
    "### Generate Microgrids"
   ]
  },
  {
   "cell_type": "code",
   "execution_count": null,
   "metadata": {
    "scrolled": true
   },
   "outputs": [],
   "source": [
    "n_grids = 2\n",
    "grid_list = []\n",
    "\n",
    "for i in range(n_grids):\n",
    "    grid_list.append(st(r'C:\\Users\\thesu\\Desktop\\Research 2022 Microgrid\\Research code repository\\Micro-Grid-ML-algo\\data\\dummy_data_v1.csv',load=np.random.randint(1E5,6E5)))\n",
    "mg_env = mg.MicrogridGenerator(storage_suite_list=grid_list)\n",
    "mg_env.generate_microgrid(verbose= True, interpolate= True)"
   ]
  },
  {
   "cell_type": "code",
   "execution_count": null,
   "metadata": {},
   "outputs": [],
   "source": [
    "print(random.randint(0,1))"
   ]
  },
  {
   "cell_type": "code",
   "execution_count": null,
   "metadata": {},
   "outputs": [],
   "source": [
    "mg0 = mg_env.microgrids[0]\n",
    "mg1 = mg_env.microgrids[1]"
   ]
  },
  {
   "cell_type": "code",
   "execution_count": null,
   "metadata": {},
   "outputs": [],
   "source": [
    "mg_env.print_mg_parameters()"
   ]
  },
  {
   "cell_type": "code",
   "execution_count": 65,
   "metadata": {},
   "outputs": [
    {
     "name": "stdout",
     "output_type": "stream",
     "text": [
      "[101247.40506372617, 0, 0.0, 0.1, 0.0, 116447.33333333333, 0.1, 0.0, 116447.33333333333, 0.1, 0.0, 116447.33333333333, 1, 0.18151899975, 0.0, 0.0]\n",
      "276.929770667751\n"
     ]
    }
   ],
   "source": [
    "# li_ion, flow, flywheel = mg0.ss.unpack()\n",
    "# pv =                            round(mg0.pv)\n",
    "# load =                          round(mg0.load)\n",
    "# net_load =                      load-pv\n",
    "# status =                        mg0.grid.status\n",
    "# # overgen_net_load =            pv-load\n",
    "# li_ion_capa_to_charge =         li_ion.capa_to_charge\n",
    "# li_ion_capa_to_discharge =      li_ion.capa_to_discharge\n",
    "# flow_capa_to_charge =           flow.capa_to_charge\n",
    "# flow_capa_to_discharge =        flow.capa_to_discharge\n",
    "# flywheel_capa_to_charge =       flywheel.capa_to_charge\n",
    "# flywheel_capa_to_discharge =    flywheel.capa_to_discharge\n",
    "\n",
    "# li_ion_charge =                 max(0,min(-net_load,li_ion_capa_to_charge ,li_ion.power))\n",
    "# li_ion_discharge =              max(0,min(net_load,li_ion_capa_to_discharge,li_ion.power))\n",
    "\n",
    "# flow_charge =                   max(0,min(-net_load,flow_capa_to_charge ,flow.power))\n",
    "# flow_discharge =                max(0,min(net_load,flow_capa_to_discharge,flow.power))\n",
    "\n",
    "# flywheel_charge=                max(0,min(-net_load,flywheel_capa_to_charge ,flywheel.power))\n",
    "# flywheel_discharge =            max(0,min(net_load,flywheel_capa_to_discharge,flywheel.power))\n",
    "\n",
    "# li_ion_soc =                 abs(li_ion.soc)\n",
    "# flow_soc =                   abs(flow.soc)\n",
    "# flywheel_soc =               abs(flywheel.soc)\n",
    "\n",
    "# capa_to_genset = mg0.genset.rated_power * mg0.genset.p_max\n",
    "# p_genset = max(0, min(net_load, capa_to_genset))\n",
    "\n",
    "\n",
    "# # soc_list = {'li_ion_soc': li_ion_soc, 'flow_soc': flow_soc, 'flywheel_soc': flywheel_soc}\n",
    "# # soc_list = sorted(soc_list, key=lambda x: (soc_list[x]))\n",
    "\n",
    "# control_dict = {    'pv_consummed': min(pv,load),\n",
    "#                     'li_charge': 0,\n",
    "#                     'li_discharge': 1E5,\n",
    "#                     'flow_charge': 0,\n",
    "#                     'flow_discharge': 0,\n",
    "#                     'flywheel_charge': 0,\n",
    "#                     'flywheel_discharge': 0,\n",
    "#                     'grid_import': 0,\n",
    "#                     'grid_export': 0,\n",
    "#                     'genset': 0\n",
    "#                 }\n",
    "\n",
    "# new_state,reward, done, = mg0.run(control_dict)\n",
    "# print(new_state)\n",
    "# mg0.reset()\n",
    "# print(reward)\n"
   ]
  },
  {
   "cell_type": "code",
   "execution_count": null,
   "metadata": {},
   "outputs": [],
   "source": [
    "# control_dict = {            'pv_consummed': min(pv,load),\n",
    "#                             'li_charge': 0,\n",
    "#                             'li_discharge': 0,\n",
    "#                             'flow_charge': 0,\n",
    "#                             'flow_discharge': 0,\n",
    "#                             'flywheel_charge': 0,\n",
    "#                             'flywheel_discharge': 0,\n",
    "#                             'grid_import': 0,\n",
    "#                             'grid_export':0,\n",
    "#                             'genset': 0\n",
    "#                            }\n",
    "\n",
    "def actions_agent(mg0, action, li_ion, flow, flywheel):\n",
    "    pv =                            round(mg0.pv)\n",
    "    load =                          round(mg0.load)\n",
    "    net_load =                      load-pv\n",
    "    status =                        mg0.grid.status\n",
    "    # overgen_net_load =            pv-load\n",
    "    li_ion_capa_to_charge =         li_ion.capa_to_charge\n",
    "    li_ion_capa_to_discharge =      li_ion.capa_to_discharge\n",
    "    flow_capa_to_charge =           flow.capa_to_charge\n",
    "    flow_capa_to_discharge =        flow.capa_to_discharge\n",
    "    flywheel_capa_to_charge =       flywheel.capa_to_charge\n",
    "    flywheel_capa_to_discharge =    flywheel.capa_to_discharge\n",
    "\n",
    "    li_ion_charge =                 max(0,min(-net_load,li_ion_capa_to_charge ,li_ion.power))\n",
    "    li_ion_discharge =              max(0,min(net_load,li_ion_capa_to_discharge,li_ion.power))\n",
    "\n",
    "    flow_charge =                   max(0,min(-net_load,flow_capa_to_charge ,flow.power))\n",
    "    flow_discharge =                max(0,min(net_load,flow_capa_to_discharge,flow.power))\n",
    "\n",
    "    flywheel_charge=                max(0,min(-net_load,flywheel_capa_to_charge ,flywheel.power))\n",
    "    flywheel_discharge =            max(0,min(net_load,flywheel_capa_to_discharge,flywheel.power))\n",
    "    \n",
    "    li_ion_soc =                 abs(li_ion.soc)\n",
    "    flow_soc =                   abs(flow.soc)\n",
    "    flywheel_soc =               abs(flywheel.soc)\n",
    "\n",
    "    capa_to_genset = mg0.genset.rated_power * mg0.genset.p_max\n",
    "    p_genset = max(0, min(net_load, capa_to_genset))\n",
    "    \n",
    "\n",
    "    # soc_list = {'li_ion_soc': li_ion_soc, 'flow_soc': flow_soc, 'flywheel_soc': flywheel_soc}\n",
    "    # soc_list = sorted(soc_list, key=lambda x: (soc_list[x]))\n",
    "    \n",
    "    if action == 0:\n",
    "        # CHARGE LI-ION\n",
    "        control_dict = {    'pv_consummed': min(pv,load),\n",
    "                            'li_charge': min(net_load,li_ion_charge),\n",
    "                            'li_discharge': 0,\n",
    "                            'flow_charge': 0,\n",
    "                            'flow_discharge': 0,\n",
    "                            'flywheel_charge': 0,\n",
    "                            'flywheel_discharge': 0,\n",
    "                            'grid_import': 0,\n",
    "                            'grid_export': abs(net_load)*status,\n",
    "                            'genset': 0\n",
    "                        }\n",
    "    if action == 1:\n",
    "        # DISCHARGE LI-ION\n",
    "        if li_ion_soc == li_ion.MIN_SOC:\n",
    "            control_dict = {    'pv_consummed': min(pv,load),\n",
    "                                'li_charge': 0,\n",
    "                                'li_discharge': min(net_load,li_ion_discharge),\n",
    "                                'flow_charge': 0,\n",
    "                                'flow_discharge': 0,\n",
    "                                'flywheel_charge': 0,\n",
    "                                'flywheel_discharge': 0,\n",
    "                                'grid_import': 0,\n",
    "                                'grid_export': abs(net_load)*status,\n",
    "                                'genset': p_genset\n",
    "                            }\n",
    "        else:\n",
    "            control_dict = {    'pv_consummed': min(pv,load),\n",
    "                                'li_charge': 0,\n",
    "                                'li_discharge': min(net_load,li_ion_discharge),\n",
    "                                'flow_charge': 0,\n",
    "                                'flow_discharge': 0,\n",
    "                                'flywheel_charge': 0,\n",
    "                                'flywheel_discharge': 0,\n",
    "                                'grid_import': 0,\n",
    "                                'grid_export': abs(net_load)*status,\n",
    "                                'genset': 0\n",
    "                            }\n",
    " ######################\n",
    "    if action == 2:\n",
    "        # CHARGE FLOW\n",
    "        control_dict = {    'pv_consummed': min(pv,load),\n",
    "                            'li_charge': 0,\n",
    "                            'li_discharge': 0,\n",
    "                            'flow_charge': min(net_load,flow_charge),\n",
    "                            'flow_discharge': 0,\n",
    "                            'flywheel_charge': 0,\n",
    "                            'flywheel_discharge': 0,\n",
    "                            'grid_import': 0,\n",
    "                            'grid_export': abs(net_load)*status,\n",
    "                            'genset': 0\n",
    "                        }\n",
    "    if action == 3:\n",
    "        # DISCHARGE FLOW\n",
    "        if flow_soc == flow.MIN_SOC:\n",
    "            control_dict = {    'pv_consummed': min(pv,load),\n",
    "                                'li_charge': 0,\n",
    "                                'li_discharge': 0,\n",
    "                                'flow_charge': 0,\n",
    "                                'flow_discharge': min(net_load,flow_discharge),\n",
    "                                'flywheel_charge': 0,\n",
    "                                'flywheel_discharge': 0,\n",
    "                                'grid_import': 0,\n",
    "                                'grid_export': abs(net_load)*status,\n",
    "                                'genset': p_genset\n",
    "                            }\n",
    "        else:\n",
    "            control_dict = {    'pv_consummed': min(pv,load),\n",
    "                                'li_charge': 0,\n",
    "                                'li_discharge': 0,\n",
    "                                'flow_charge': 0,\n",
    "                                'flow_discharge': min(net_load,flow_discharge),\n",
    "                                'flywheel_charge': 0,\n",
    "                                'flywheel_discharge': 0,\n",
    "                                'grid_import': 0,\n",
    "                                'grid_export': abs(net_load)*status,\n",
    "                                'genset': 0\n",
    "                            }\n",
    " ######################\n",
    "    if action == 4:\n",
    "        # CHARGE FLYWHEEL\n",
    "        control_dict = {    'pv_consummed': min(pv,load),\n",
    "                            'li_charge': 0,\n",
    "                            'li_discharge': 0,\n",
    "                            'flow_charge': 0,\n",
    "                            'flow_discharge': 0,\n",
    "                            'flywheel_charge': min(net_load,flywheel_charge),\n",
    "                            'flywheel_discharge': 0,\n",
    "                            'grid_import': 0,\n",
    "                            'grid_export': abs(net_load)*status,\n",
    "                            'genset': 0\n",
    "                        }\n",
    "    if action == 5:\n",
    "        # DISCHARGE FLYWHEEL\n",
    "        if flywheel_soc == flywheel.MIN_SOC:\n",
    "            control_dict = {    'pv_consummed': min(pv,load),\n",
    "                                'li_charge': 0,\n",
    "                                'li_discharge': 0,\n",
    "                                'flow_charge': 0,\n",
    "                                'flow_discharge': 0,\n",
    "                                'flywheel_charge': 0,\n",
    "                                'flywheel_discharge': min(net_load,flywheel_discharge),\n",
    "                                'grid_import': 0,\n",
    "                                'grid_export': abs(net_load)*status,\n",
    "                                'genset': p_genset\n",
    "                            }\n",
    "        else:\n",
    "            control_dict = {    'pv_consummed': min(pv,load),\n",
    "                                'li_charge': 0,\n",
    "                                'li_discharge': 0,\n",
    "                                'flow_charge': 0,\n",
    "                                'flow_discharge': 0,\n",
    "                                'flywheel_charge': 0,\n",
    "                                'flywheel_discharge': min(net_load,flywheel_discharge),\n",
    "                                'grid_import': 0,\n",
    "                                'grid_export': abs(net_load)*status,\n",
    "                                'genset': 0\n",
    "                            }\n",
    " ######################\n",
    "    if action == 6:\n",
    "        # IMPORT\n",
    "        control_dict = {    'pv_consummed': min(pv,load),\n",
    "                            'li_charge': 0,\n",
    "                            'li_discharge': 0,\n",
    "                            'flow_charge': 0,\n",
    "                            'flow_discharge': 0,\n",
    "                            'flywheel_charge': 0,\n",
    "                            'flywheel_discharge': 0,\n",
    "                            'grid_import': abs(net_load)*status,\n",
    "                            'grid_export': 0,\n",
    "                            'genset': 0\n",
    "                        }\n",
    "                        \n",
    "    if action == 7:\n",
    "        # EXPORT\n",
    "        control_dict = {    'pv_consummed': min(pv,load),\n",
    "                            'li_charge': 0,\n",
    "                            'li_discharge': 0,\n",
    "                            'flow_charge': 0,\n",
    "                            'flow_discharge': 0,\n",
    "                            'flywheel_charge': 0,\n",
    "                            'flywheel_discharge': 0,\n",
    "                            'grid_import': 0,\n",
    "                            'grid_export': abs(net_load)*status,\n",
    "                            'genset': 0\n",
    "                        }\n",
    "\n",
    " ######################\n",
    "    if action == 8:\n",
    "        # COMBINED CHARGE IMPORT\n",
    "        control_dict = {    'pv_consummed': min(pv,load),\n",
    "                            'li_charge': min(net_load/3,li_ion_charge),\n",
    "                            'li_discharge': 0,\n",
    "                            'flow_charge': min(net_load/3,flow_charge),\n",
    "                            'flow_discharge': 0,\n",
    "                            'flywheel_charge': min(net_load/3,flywheel_charge),\n",
    "                            'flywheel_discharge': 0,\n",
    "                            'grid_import': abs(net_load)*status,\n",
    "                            'grid_export': 0,\n",
    "                            'genset': 0\n",
    "                        }\n",
    "                        \n",
    "    if action == 9:\n",
    "        # COMBINED DISCHARGE EXPORT\n",
    "        control_dict = {    'pv_consummed': min(pv,load),\n",
    "                            'li_charge': 0,\n",
    "                            'li_discharge': min(net_load/3,li_ion_discharge),\n",
    "                            'flow_charge': 0,\n",
    "                            'flow_discharge': min(net_load/3.,flow_discharge),\n",
    "                            'flywheel_charge': 0,\n",
    "                            'flywheel_discharge': min(net_load/3,flywheel_discharge),\n",
    "                            'grid_import': 0,\n",
    "                            'grid_export': abs(net_load)*status,\n",
    "                            'genset': 0\n",
    "                        }\n",
    "        \n",
    "        \n",
    "    return control_dict\n",
    "\n",
    "\n",
    "   "
   ]
  },
  {
   "cell_type": "code",
   "execution_count": null,
   "metadata": {},
   "outputs": [],
   "source": [
    "# def change_name_action(idx):\n",
    "# # Grid is up\n",
    "#     if idx == 0:\n",
    "#         action_name = \"NON-ISLANDED OVERGENERATION EXPORT\"\n",
    "#     elif idx == 1:\n",
    "#         action_name = \"NON-ISLANDED OVERGENERATION EXCLUSIVE CHARGE AND EXPORT\"\n",
    "#     elif idx == 2:\n",
    "#         action_name = \"ISLANDED OVERGENERATION EXCLUSIVE CHARGE\"\n",
    "#     elif idx == 3:\n",
    "#         action_name = \"NON-ISLANDED OVERGENERATION COMBINED CHARGE\"\n",
    "#     elif idx == 4:\n",
    "#         action_name = \"ISLANDED OVERGENERATION COMBINED CHARGE\"\n",
    "#     elif idx == 5:\n",
    "#         action_name = \"NON-ISLANDED OVERGENERATION CONDITIONAL CHARGE\"\n",
    "#     elif idx == 6 :\n",
    "#         action_name = \"ISLANDED OVERGENERATION CONDITIONAL CHARGE\"\n",
    "#     elif idx == 7 :\n",
    "#         action_name = \"NON-ISLANDED UNDERGENERATION EXCLUSIVE CHARGE\"\n",
    "#     elif idx == 8 :\n",
    "#         action_name = \"ISLANDED UNDERGENERATION EXCLUSIVE DISCHARGE\"\n",
    "#     elif idx == 9 :\n",
    "#         action_name = \"NON-ISLANDED UNDERGENERATION COMBINED DISCHARGE\"\n",
    "#     elif idx == 10 :\n",
    "#         action_name = \"ISLANDED UNDERGENERATION COMBINED DISCHARGE\"\n",
    "#     return action_name"
   ]
  },
  {
   "cell_type": "markdown",
   "metadata": {},
   "source": [
    "Now I define my agent function"
   ]
  },
  {
   "cell_type": "code",
   "execution_count": null,
   "metadata": {},
   "outputs": [],
   "source": [
    "def training_Q_Learning(mg=mg_env.microgrids[0], n_episodes = 1, nb_actions = 8, horizon = DAY):\n",
    "    '''Used to train the deep Q-learning model'''\n",
    "    env = mg\n",
    "    env.set_horizon(horizon = horizon) # Sets the Horizon\n",
    "    # MUST DEFINE ACTION SPACE WITHIN PYMGRID\n",
    "    # making an instance of the agent\n",
    "    \n",
    "    agent = DQAgent(learning_rate=0.05, gamma=0.90, batch_size=32, \n",
    "                     state_len=len(env.reset()), \n",
    "                     n_actions = nb_actions,\n",
    "                     mem_size = 1000000,\n",
    "                     min_memory_for_training=1000, epsilon=1, epsilon_dec=0.99,\n",
    "                     epsilon_min = 0.02)\n",
    "    \n",
    "    # with open(r'C:\\Users\\thesu\\Desktop\\Trained Agent 7_2_2022.pkl', 'rb') as f:  \n",
    "    #       loaded_agent = pkl.load(f)\n",
    "\n",
    "    # agent = loaded_agent\n",
    "    li_ion,flow,flywheel = mg.ss.unpack()    \n",
    "\n",
    "    #main training loop\n",
    "    for episode in range(n_episodes):\n",
    "        state = env.reset()                              \n",
    "        score = 0                                                                   \n",
    "        done = 0\n",
    "        # env._tracking_timestep = env._tracking_timestep+(HOUR*10)  \n",
    "        # action_counter = np.zeros(nb_actions)                                                                     \n",
    "        while not done:                                     \n",
    "            # env.render()                                                         \n",
    "            action_select = agent.choose_action(state)\n",
    "            action = actions_agent(mg0 = env, action = action_select, li_ion = li_ion, flow = flow, flywheel = flywheel) \n",
    "            new_state,reward, done, = env.run(action)                             \n",
    "            score+=reward                                                           \n",
    "            agent.store_transition(state, action_select, reward, new_state, done)         \n",
    "            agent.learn()                                                           \n",
    "            state = new_state                                                       \n",
    "            # cost_record = np.append(cost_record, abs(reward)+cost_record[i-1])\n",
    "            # print(action_select)\n",
    "            # print(f'Score is: {score}, Progress = {env._tracking_timestep}/{env.horizon}') \n",
    "            value_print=f\"\\rEpisode: {episode} Progress \" + str(round(((env._tracking_timestep)*100)/(env.horizon),2))\n",
    "            # action_counter[action_select] += 1\n",
    "            # value_print=\"\\r\"+f\"0: {action_counter[0]}, 1: {action_counter[1]}, 2: {action_counter[2]}, 3: {action_counter[3]}, 4: {action_counter[4]}, 5: {action_counter[5]}, 6: {action_counter[6]}, 7: {action_counter[7]}\"\n",
    "            sys.stdout.write(value_print)\n",
    "            sys.stdout.flush()\n",
    "    env.reset()                                                                    \n",
    "    return agent"
   ]
  },
  {
   "cell_type": "code",
   "execution_count": null,
   "metadata": {},
   "outputs": [],
   "source": [
    "capa_to_genset = mg1.genset.rated_power * mg1.genset.p_max\n",
    "print(capa_to_genset)"
   ]
  },
  {
   "cell_type": "code",
   "execution_count": null,
   "metadata": {},
   "outputs": [],
   "source": [
    "def testing_Q_Learning(mg=mg_env.microgrids[0], nb_actions = 8, horizon = DAY):\n",
    "    ''' Manages the grid based on a trained neural net model '''\n",
    "    env = mg\n",
    "    env.set_horizon(horizon = horizon) # Sets the Horizon\n",
    "    # MUST DEFINE ACTION SPACE WITHIN PYMGRID\n",
    "    # making an instance of the agent\n",
    "    with open(r'C:\\Users\\thesu\\Desktop\\Updated Genset Agent 7_3_2022.pkl', 'rb') as f:  \n",
    "          agent = pkl.load(f)\n",
    "    li_ion,flow,flywheel = mg.ss.unpack()\n",
    "    state = env.reset()                                                       \n",
    "    score = 0                                                                   \n",
    "    done = 0\n",
    "    #main testing loop                                                            \n",
    "    while not done:                                                                                         \n",
    "        action_select = agent.choose_action(state)\n",
    "        action = actions_agent(mg0 = env, action = action_select, li_ion = li_ion, flow = flow, flywheel = flywheel) \n",
    "        new_state,reward, done, = env.run(action)                             \n",
    "        score+=reward                                                                                                                   \n",
    "        state = new_state\n",
    "        value_print=\"\\rProgress \" + str(round(((env._tracking_timestep)*100)/(env.horizon),2)) +\" %\"\n",
    "        sys.stdout.write(value_print)\n",
    "        sys.stdout.flush()                                                       \n",
    "    env.reset()                                                                    \n",
    "    return score"
   ]
  },
  {
   "cell_type": "code",
   "execution_count": 29,
   "metadata": {},
   "outputs": [],
   "source": [
    "def randomize(mg=mg_env.microgrids[0], nb_actions = 8, horizon = DAY):\n",
    "    ''' Manages the grid with random actions. Used to compare to deep Q-learning algorithm '''\n",
    "    env = mg\n",
    "    env.set_horizon(horizon = horizon) # Sets the Horizon\n",
    "    li_ion,flow,flywheel = mg.ss.unpack()\n",
    "    state = env.reset()                                                       \n",
    "    score = 0                                                                   \n",
    "    done = 0\n",
    "    while not done:                                                                                         \n",
    "        action_select = np.random.randint(0,8)\n",
    "        action = actions_agent(mg0 = env, action = action_select, li_ion = li_ion, flow = flow, flywheel = flywheel) \n",
    "        new_state,reward, done, = env.run(action)                          \n",
    "        score+=reward                                                                                                                   \n",
    "        state = new_state                                                       \n",
    "    env.reset()\n",
    "    return score "
   ]
  },
  {
   "cell_type": "markdown",
   "metadata": {},
   "source": [
    "# SCORE IS NEGATIVE, THE HIGHER THE NUMBER, THE BETTER THE PERFORMANCE"
   ]
  },
  {
   "cell_type": "code",
   "execution_count": null,
   "metadata": {},
   "outputs": [],
   "source": [
    "trained_agent = training_Q_Learning(mg=mg1, n_episodes=1, nb_actions=8, horizon = YEAR)"
   ]
  },
  {
   "cell_type": "code",
   "execution_count": null,
   "metadata": {},
   "outputs": [],
   "source": [
    "with open(r'C:\\Users\\thesu\\Desktop\\Updated Genset Agent 7_3_2022.pkl', 'wb') as f:  \n",
    "    pkl.dump(obj =trained_agent, file=f)"
   ]
  },
  {
   "cell_type": "markdown",
   "metadata": {},
   "source": [
    "Trained Network Storage"
   ]
  },
  {
   "cell_type": "markdown",
   "metadata": {},
   "source": [
    "with open(r'C:\\Users\\thesu\\Desktop\\Trained Agent 7_3_2022.pkl', 'wb') as f:  \n",
    "    pkl.dump(obj =trained_agent, file=f)"
   ]
  },
  {
   "cell_type": "markdown",
   "metadata": {},
   "source": [
    "Object Loading"
   ]
  },
  {
   "cell_type": "markdown",
   "metadata": {},
   "source": [
    "with open(r'C:\\Users\\thesu\\Desktop\\Trained Agent 7_3_2022.pkl', 'rb') as f:  \n",
    "    loaded_agent = pkl.load(f)"
   ]
  },
  {
   "cell_type": "code",
   "execution_count": null,
   "metadata": {},
   "outputs": [],
   "source": [
    "score = testing_Q_Learning(mg = mg0, nb_actions=8, horizon= YEAR)"
   ]
  },
  {
   "cell_type": "code",
   "execution_count": 31,
   "metadata": {},
   "outputs": [
    {
     "name": "stdout",
     "output_type": "stream",
     "text": [
      "12322477.938017648\n"
     ]
    }
   ],
   "source": [
    "r_score = randomize(mg=mg1, nb_actions = 8, horizon = YEAR)\n",
    "print(r_score)"
   ]
  },
  {
   "cell_type": "code",
   "execution_count": 32,
   "metadata": {},
   "outputs": [
    {
     "name": "stdout",
     "output_type": "stream",
     "text": [
      "20699339.289496623\n"
     ]
    }
   ],
   "source": [
    "print(score)"
   ]
  },
  {
   "cell_type": "code",
   "execution_count": 33,
   "metadata": {},
   "outputs": [],
   "source": [
    "percentage = ((score/r_score)-1)*100"
   ]
  },
  {
   "cell_type": "code",
   "execution_count": 34,
   "metadata": {},
   "outputs": [
    {
     "name": "stdout",
     "output_type": "stream",
     "text": [
      "67.98 %\n"
     ]
    }
   ],
   "source": [
    "print(str(round(percentage,2))+\" %\")"
   ]
  }
 ],
 "metadata": {
  "kernelspec": {
   "display_name": "Python 3.9.12 ('base')",
   "language": "python",
   "name": "python3"
  },
  "language_info": {
   "codemirror_mode": {
    "name": "ipython",
    "version": 3
   },
   "file_extension": ".py",
   "mimetype": "text/x-python",
   "name": "python",
   "nbconvert_exporter": "python",
   "pygments_lexer": "ipython3",
   "version": "3.9.12"
  },
  "vscode": {
   "interpreter": {
    "hash": "dd887db2f66529d4636c400342ad015b782a82dfbd794ccac1d8c6ae30a1995a"
   }
  }
 },
 "nbformat": 4,
 "nbformat_minor": 4
}
