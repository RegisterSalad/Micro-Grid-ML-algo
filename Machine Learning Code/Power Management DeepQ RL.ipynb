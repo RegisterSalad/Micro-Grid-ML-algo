{
 "cells": [
  {
   "cell_type": "markdown",
   "metadata": {},
   "source": [
    "# Central RL control notebook"
   ]
  },
  {
   "cell_type": "code",
   "execution_count": 1,
   "metadata": {},
   "outputs": [],
   "source": [
    "import sys\n",
    "from pymgrid import MicrogridGenerator as mg\n",
    "import matplotlib.pyplot as plt\n",
    "import numpy as np\n",
    "import os\n",
    "import time\n",
    "from IPython.display import display,clear_output\n",
    "import pandas as pd\n",
    "from Storage import StorageSuite as st\n",
    "from pathlib import Path\n",
    "from math import e\n",
    "from time import sleep\n",
    "from DQNEnv import DQAgent\n",
    "import pickle as pkl\n",
    "import random"
   ]
  },
  {
   "cell_type": "markdown",
   "metadata": {},
   "source": [
    "Time span constants"
   ]
  },
  {
   "cell_type": "code",
   "execution_count": 2,
   "metadata": {},
   "outputs": [],
   "source": [
    "HOUR = 4 # 15 Min intervals in an hour\n",
    "DAY = 96 # Number of 15 Min intervals in day\n",
    "MONTH = 2_924 # Number of 15 Min intervals in month\n",
    "YEAR =35_088 # Number of 15 Min intervals in year (non-leap)\n",
    "ZERO = 10**-5"
   ]
  },
  {
   "cell_type": "markdown",
   "metadata": {},
   "source": [
    "### Generate Microgrids"
   ]
  },
  {
   "cell_type": "code",
   "execution_count": 3,
   "metadata": {
    "scrolled": true
   },
   "outputs": [
    {
     "name": "stderr",
     "output_type": "stream",
     "text": [
      "c:\\Users\\thesu\\anaconda3\\lib\\site-packages\\pymgrid\\MicrogridGenerator.py:518: FutureWarning:\n",
      "\n",
      "The frame.append method is deprecated and will be removed from pandas in a future version. Use pandas.concat instead.\n",
      "\n"
     ]
    },
    {
     "data": {
      "text/html": [
       "<div>\n",
       "<style scoped>\n",
       "    .dataframe tbody tr th:only-of-type {\n",
       "        vertical-align: middle;\n",
       "    }\n",
       "\n",
       "    .dataframe tbody tr th {\n",
       "        vertical-align: top;\n",
       "    }\n",
       "\n",
       "    .dataframe thead th {\n",
       "        text-align: right;\n",
       "    }\n",
       "</style>\n",
       "<table border=\"1\" class=\"dataframe\">\n",
       "  <thead>\n",
       "    <tr style=\"text-align: right;\">\n",
       "      <th></th>\n",
       "      <th>load</th>\n",
       "      <th>load_size</th>\n",
       "      <th>cost_loss_load</th>\n",
       "      <th>cost_overgeneration</th>\n",
       "      <th>cost_co2</th>\n",
       "      <th>PV_rated_power</th>\n",
       "      <th>grid_weak</th>\n",
       "      <th>grid_power_import</th>\n",
       "      <th>grid_power_export</th>\n",
       "      <th>genset_polynom_order</th>\n",
       "      <th>genset_polynom_0</th>\n",
       "      <th>genset_polynom_1</th>\n",
       "      <th>genset_polynom_2</th>\n",
       "      <th>genset_rated_power</th>\n",
       "      <th>genset_pmin</th>\n",
       "      <th>genset_pmax</th>\n",
       "      <th>fuel_cost</th>\n",
       "      <th>genset_co2</th>\n",
       "    </tr>\n",
       "  </thead>\n",
       "  <tbody>\n",
       "    <tr>\n",
       "      <th>0</th>\n",
       "      <td>349342</td>\n",
       "      <td>349342</td>\n",
       "      <td>0.000025</td>\n",
       "      <td>0.000003</td>\n",
       "      <td>0.000025</td>\n",
       "      <td>216592.04</td>\n",
       "      <td>1</td>\n",
       "      <td>698684</td>\n",
       "      <td>698684</td>\n",
       "      <td>3</td>\n",
       "      <td>0.510391</td>\n",
       "      <td>0.995274</td>\n",
       "      <td>0.087814</td>\n",
       "      <td>388158</td>\n",
       "      <td>0.05</td>\n",
       "      <td>0.9</td>\n",
       "      <td>0.00001</td>\n",
       "      <td>0.000005</td>\n",
       "    </tr>\n",
       "    <tr>\n",
       "      <th>1</th>\n",
       "      <td>377869</td>\n",
       "      <td>377869</td>\n",
       "      <td>0.000025</td>\n",
       "      <td>0.000003</td>\n",
       "      <td>0.000025</td>\n",
       "      <td>226721.40</td>\n",
       "      <td>1</td>\n",
       "      <td>755738</td>\n",
       "      <td>755738</td>\n",
       "      <td>3</td>\n",
       "      <td>1.933146</td>\n",
       "      <td>0.573415</td>\n",
       "      <td>0.059300</td>\n",
       "      <td>419855</td>\n",
       "      <td>0.05</td>\n",
       "      <td>0.9</td>\n",
       "      <td>0.00001</td>\n",
       "      <td>0.000005</td>\n",
       "    </tr>\n",
       "  </tbody>\n",
       "</table>\n",
       "</div>"
      ],
      "text/plain": [
       "     load  load_size  cost_loss_load  cost_overgeneration  cost_co2  \\\n",
       "0  349342     349342        0.000025             0.000003  0.000025   \n",
       "1  377869     377869        0.000025             0.000003  0.000025   \n",
       "\n",
       "   PV_rated_power  grid_weak  grid_power_import  grid_power_export  \\\n",
       "0       216592.04          1             698684             698684   \n",
       "1       226721.40          1             755738             755738   \n",
       "\n",
       "   genset_polynom_order  genset_polynom_0  genset_polynom_1  genset_polynom_2  \\\n",
       "0                     3          0.510391          0.995274          0.087814   \n",
       "1                     3          1.933146          0.573415          0.059300   \n",
       "\n",
       "   genset_rated_power  genset_pmin  genset_pmax  fuel_cost  genset_co2  \n",
       "0              388158         0.05          0.9    0.00001    0.000005  \n",
       "1              419855         0.05          0.9    0.00001    0.000005  "
      ]
     },
     "metadata": {},
     "output_type": "display_data"
    },
    {
     "data": {
      "text/plain": [
       "<Storage.StorageSuite at 0x18eb0ef23a0>"
      ]
     },
     "execution_count": 3,
     "metadata": {},
     "output_type": "execute_result"
    }
   ],
   "source": [
    "n_grids = 2\n",
    "grid_list = []\n",
    "\n",
    "for i in range(n_grids):\n",
    "    grid_list.append(st(r'C:\\Users\\thesu\\Desktop\\Research 2022 Microgrid\\Research code repository\\Micro-Grid-ML-algo\\data\\dummy_data_v1.csv',load=np.random.randint(1E5,6E5)))\n",
    "mg_env = mg.MicrogridGenerator(storage_suite_list=grid_list)\n",
    "mg_env.generate_microgrid(verbose= True, interpolate= True)"
   ]
  },
  {
   "cell_type": "code",
   "execution_count": 4,
   "metadata": {},
   "outputs": [],
   "source": [
    "mg0 = mg_env.microgrids[0]\n",
    "mg1 = mg_env.microgrids[1]"
   ]
  },
  {
   "cell_type": "code",
   "execution_count": 5,
   "metadata": {},
   "outputs": [
    {
     "name": "stderr",
     "output_type": "stream",
     "text": [
      "c:\\Users\\thesu\\anaconda3\\lib\\site-packages\\pymgrid\\MicrogridGenerator.py:518: FutureWarning:\n",
      "\n",
      "The frame.append method is deprecated and will be removed from pandas in a future version. Use pandas.concat instead.\n",
      "\n"
     ]
    },
    {
     "data": {
      "text/html": [
       "<div>\n",
       "<style scoped>\n",
       "    .dataframe tbody tr th:only-of-type {\n",
       "        vertical-align: middle;\n",
       "    }\n",
       "\n",
       "    .dataframe tbody tr th {\n",
       "        vertical-align: top;\n",
       "    }\n",
       "\n",
       "    .dataframe thead th {\n",
       "        text-align: right;\n",
       "    }\n",
       "</style>\n",
       "<table border=\"1\" class=\"dataframe\">\n",
       "  <thead>\n",
       "    <tr style=\"text-align: right;\">\n",
       "      <th></th>\n",
       "      <th>load</th>\n",
       "      <th>load_size</th>\n",
       "      <th>cost_loss_load</th>\n",
       "      <th>cost_overgeneration</th>\n",
       "      <th>cost_co2</th>\n",
       "      <th>PV_rated_power</th>\n",
       "      <th>grid_weak</th>\n",
       "      <th>grid_power_import</th>\n",
       "      <th>grid_power_export</th>\n",
       "      <th>genset_polynom_order</th>\n",
       "      <th>genset_polynom_0</th>\n",
       "      <th>genset_polynom_1</th>\n",
       "      <th>genset_polynom_2</th>\n",
       "      <th>genset_rated_power</th>\n",
       "      <th>genset_pmin</th>\n",
       "      <th>genset_pmax</th>\n",
       "      <th>fuel_cost</th>\n",
       "      <th>genset_co2</th>\n",
       "    </tr>\n",
       "  </thead>\n",
       "  <tbody>\n",
       "    <tr>\n",
       "      <th>0</th>\n",
       "      <td>349342</td>\n",
       "      <td>349342</td>\n",
       "      <td>0.000025</td>\n",
       "      <td>0.000003</td>\n",
       "      <td>0.000025</td>\n",
       "      <td>216592.04</td>\n",
       "      <td>1</td>\n",
       "      <td>698684</td>\n",
       "      <td>698684</td>\n",
       "      <td>3</td>\n",
       "      <td>0.510391</td>\n",
       "      <td>0.995274</td>\n",
       "      <td>0.087814</td>\n",
       "      <td>388158</td>\n",
       "      <td>0.05</td>\n",
       "      <td>0.9</td>\n",
       "      <td>0.00001</td>\n",
       "      <td>0.000005</td>\n",
       "    </tr>\n",
       "    <tr>\n",
       "      <th>1</th>\n",
       "      <td>377869</td>\n",
       "      <td>377869</td>\n",
       "      <td>0.000025</td>\n",
       "      <td>0.000003</td>\n",
       "      <td>0.000025</td>\n",
       "      <td>226721.40</td>\n",
       "      <td>1</td>\n",
       "      <td>755738</td>\n",
       "      <td>755738</td>\n",
       "      <td>3</td>\n",
       "      <td>1.933146</td>\n",
       "      <td>0.573415</td>\n",
       "      <td>0.059300</td>\n",
       "      <td>419855</td>\n",
       "      <td>0.05</td>\n",
       "      <td>0.9</td>\n",
       "      <td>0.00001</td>\n",
       "      <td>0.000005</td>\n",
       "    </tr>\n",
       "  </tbody>\n",
       "</table>\n",
       "</div>"
      ],
      "text/plain": [
       "     load  load_size  cost_loss_load  cost_overgeneration  cost_co2  \\\n",
       "0  349342     349342        0.000025             0.000003  0.000025   \n",
       "1  377869     377869        0.000025             0.000003  0.000025   \n",
       "\n",
       "   PV_rated_power  grid_weak  grid_power_import  grid_power_export  \\\n",
       "0       216592.04          1             698684             698684   \n",
       "1       226721.40          1             755738             755738   \n",
       "\n",
       "   genset_polynom_order  genset_polynom_0  genset_polynom_1  genset_polynom_2  \\\n",
       "0                     3          0.510391          0.995274          0.087814   \n",
       "1                     3          1.933146          0.573415          0.059300   \n",
       "\n",
       "   genset_rated_power  genset_pmin  genset_pmax  fuel_cost  genset_co2  \n",
       "0              388158         0.05          0.9    0.00001    0.000005  \n",
       "1              419855         0.05          0.9    0.00001    0.000005  "
      ]
     },
     "metadata": {},
     "output_type": "display_data"
    }
   ],
   "source": [
    "mg_env.print_mg_parameters()"
   ]
  },
  {
   "cell_type": "code",
   "execution_count": 6,
   "metadata": {},
   "outputs": [],
   "source": [
    "# li_ion, flow, flywheel = mg0.ss.unpack()\n",
    "# pv =                            round(mg0.pv)\n",
    "# load =                          round(mg0.load)\n",
    "# net_load =                      load-pv\n",
    "# status =                        mg0.grid.status\n",
    "# # overgen_net_load =            pv-load\n",
    "# li_ion_capa_to_charge =         li_ion.capa_to_charge\n",
    "# li_ion_capa_to_discharge =      li_ion.capa_to_discharge\n",
    "# flow_capa_to_charge =           flow.capa_to_charge\n",
    "# flow_capa_to_discharge =        flow.capa_to_discharge\n",
    "# flywheel_capa_to_charge =       flywheel.capa_to_charge\n",
    "# flywheel_capa_to_discharge =    flywheel.capa_to_discharge\n",
    "\n",
    "# li_ion_charge =                 max(0,min(-net_load,li_ion_capa_to_charge ,li_ion.power))\n",
    "# li_ion_discharge =              max(0,min(net_load,li_ion_capa_to_discharge,li_ion.power))\n",
    "\n",
    "# flow_charge =                   max(0,min(-net_load,flow_capa_to_charge ,flow.power))\n",
    "# flow_discharge =                max(0,min(net_load,flow_capa_to_discharge,flow.power))\n",
    "\n",
    "# flywheel_charge=                max(0,min(-net_load,flywheel_capa_to_charge ,flywheel.power))\n",
    "# flywheel_discharge =            max(0,min(net_load,flywheel_capa_to_discharge,flywheel.power))\n",
    "\n",
    "# li_ion_soc =                 abs(li_ion.soc)\n",
    "# flow_soc =                   abs(flow.soc)\n",
    "# flywheel_soc =               abs(flywheel.soc)\n",
    "\n",
    "# capa_to_genset = mg0.genset.rated_power * mg0.genset.p_max\n",
    "# p_genset = max(0, min(net_load, capa_to_genset))\n",
    "\n",
    "\n",
    "# # soc_list = {'li_ion_soc': li_ion_soc, 'flow_soc': flow_soc, 'flywheel_soc': flywheel_soc}\n",
    "# # soc_list = sorted(soc_list, key=lambda x: (soc_list[x]))\n",
    "\n",
    "# control_dict = {    'pv_consummed': min(pv,load),\n",
    "#                     'li_charge': 0,\n",
    "#                     'li_discharge': li_ion_discharge,\n",
    "#                     'flow_charge': 0,\n",
    "#                     'flow_discharge': flow_discharge,\n",
    "#                     'flywheel_charge': 0,\n",
    "#                     'flywheel_discharge': flywheel_discharge,\n",
    "#                     'grid_import': 0,\n",
    "#                     'grid_export': li_ion_discharge+flow_discharge+flywheel_discharge,\n",
    "#                     'genset': 0\n",
    "#                 }\n",
    "# print(min(pv,load))\n",
    "# new_state,reward, done, = mg0.run(control_dict)\n",
    "# # print(len(new_state))\n",
    "# li_ion.soc = li_ion.MAX_SOC\n",
    "# flow.soc = flow.MAX_SOC\n",
    "# flywheel.soc = flywheel.MAX_SOC\n",
    "# mg0.reset()\n",
    "# print(p_genset)\n",
    "# print(reward)\n",
    "# print(' ')\n"
   ]
  },
  {
   "cell_type": "markdown",
   "metadata": {},
   "source": [
    "Now I define my agent function"
   ]
  },
  {
   "cell_type": "code",
   "execution_count": 7,
   "metadata": {},
   "outputs": [],
   "source": [
    "def train_new_network(env: object, n_episodes: int, nb_actions: int, horizon: int) -> object:\n",
    "    '''Used to train the deep Q-learning model and store a deep Q model\n",
    "        For path use \\\\ or r'' to avoid UNICODE errors '''\n",
    "    env.set_horizon(horizon = horizon) # Sets the Horizon\n",
    "    agent = DQAgent(learning_rate=0.05, gamma=0.90, batch_size=96, \n",
    "                    state_len=len(env.reset()), \n",
    "                    n_actions = nb_actions,\n",
    "                    mem_size = 1000000,\n",
    "                    min_memory_for_training=1000, epsilon=1, epsilon_dec=0.999,\n",
    "                    epsilon_min = 0.02)\n",
    "    #main training loop\n",
    "    for episode in range(n_episodes):\n",
    "        state = env.reset()                              \n",
    "        score = 0                                                                   \n",
    "        done = 0                                                             \n",
    "        while not done:                                                                                         \n",
    "            action_select = agent.choose_action(state)\n",
    "            action = env.actions_agent(action = action_select) \n",
    "            new_state,reward, done, = env.run(action)                             \n",
    "            score+=(-reward)\n",
    "            agent.store_transition(state, action_select, -reward, new_state, done)       \n",
    "            agent.learn()                                                           \n",
    "            state = new_state                                                       \n",
    "            value_print=f\"\\rEpisode: {episode} Progress \" + str(round(((env._tracking_timestep)*100)/(env.horizon),1))\n",
    "            sys.stdout.write(value_print)\n",
    "            sys.stdout.flush()\n",
    "    env.reset()\n",
    "    return agent"
   ]
  },
  {
   "cell_type": "code",
   "execution_count": 8,
   "metadata": {},
   "outputs": [],
   "source": [
    "def test_grid(env: object, horizon: int, agent: object) -> float:\n",
    "    ''' Manages the grid based on a trained neural net model '''\n",
    "    env.set_horizon(horizon = horizon) # Sets the Horizon\n",
    "\n",
    "    state = env.reset()                                                       \n",
    "    score = 0                                                                   \n",
    "    done = 0\n",
    "    score_record = []\n",
    "    action_record = []\n",
    "    #main testing loop                                                            \n",
    "    while not done:                                                                                         \n",
    "        action_select = agent.choose_action(state)\n",
    "        action = env.actions_agent(action = action_select)\n",
    "        new_state,reward, done, = env.run(action)\n",
    "        score+=(-reward)\n",
    "        score_record.append(score)\n",
    "        action_record.append(action_select)\n",
    "        state = new_state\n",
    "        # value_print=\"\\rProgress \" + str(round(((env._tracking_timestep)*100)/(env.horizon),1)) +\" %\"\n",
    "        sys.stdout.write(str(f'\\r{score}'))\n",
    "        sys.stdout.flush()\n",
    "    env.reset()\n",
    "    return score, score_record, action_record"
   ]
  },
  {
   "cell_type": "code",
   "execution_count": 9,
   "metadata": {},
   "outputs": [],
   "source": [
    "def randomize(mg=mg_env.microgrids[0], nb_actions = 8, horizon = DAY):\n",
    "    ''' Manages the grid with random actions. Used to compare to deep Q-learning algorithm '''\n",
    "    env = mg\n",
    "    env.set_horizon(horizon = horizon) # Sets the Horizon\n",
    "    li_ion,flow,flywheel = mg.ss.unpack()\n",
    "    state = env.reset()                                                       \n",
    "    score = 0                                                                   \n",
    "    done = 0\n",
    "    while not done:                                                                                         \n",
    "        action_select = np.random.randint(0,8)\n",
    "        action = env.actions_agent(action = action_select) \n",
    "        new_state, reward, done, = env.run(action)                          \n",
    "        score+=(-reward)\n",
    "        sys.stdout.write(str(f'\\r{score}'))\n",
    "        sys.stdout.flush()                                                                                                               \n",
    "        state = new_state                                                       \n",
    "    env.reset()\n",
    "    return score"
   ]
  },
  {
   "cell_type": "code",
   "execution_count": 10,
   "metadata": {},
   "outputs": [
    {
     "name": "stdout",
     "output_type": "stream",
     "text": [
      "Episode: 4 Progress 88.10"
     ]
    },
    {
     "ename": "KeyboardInterrupt",
     "evalue": "",
     "output_type": "error",
     "traceback": [
      "\u001b[1;31m---------------------------------------------------------------------------\u001b[0m",
      "\u001b[1;31mKeyboardInterrupt\u001b[0m                         Traceback (most recent call last)",
      "\u001b[1;32mc:\\Users\\thesu\\Desktop\\Research 2022 Microgrid\\Research code repository\\Micro-Grid-ML-algo\\Machine Learning Code\\Power Management DeepQ RL.ipynb Cell 14\u001b[0m in \u001b[0;36m<cell line: 1>\u001b[1;34m()\u001b[0m\n\u001b[1;32m----> <a href='vscode-notebook-cell:/c%3A/Users/thesu/Desktop/Research%202022%20Microgrid/Research%20code%20repository/Micro-Grid-ML-algo/Machine%20Learning%20Code/Power%20Management%20DeepQ%20RL.ipynb#ch0000013?line=0'>1</a>\u001b[0m trained_agent \u001b[39m=\u001b[39m train_new_network(env\u001b[39m=\u001b[39;49mmg1, n_episodes\u001b[39m=\u001b[39;49m\u001b[39m100\u001b[39;49m, nb_actions\u001b[39m=\u001b[39;49m\u001b[39m7\u001b[39;49m, horizon \u001b[39m=\u001b[39;49m DAY\u001b[39m*\u001b[39;49m\u001b[39m7\u001b[39;49m)\n",
      "\u001b[1;32mc:\\Users\\thesu\\Desktop\\Research 2022 Microgrid\\Research code repository\\Micro-Grid-ML-algo\\Machine Learning Code\\Power Management DeepQ RL.ipynb Cell 14\u001b[0m in \u001b[0;36mtrain_new_network\u001b[1;34m(env, n_episodes, nb_actions, horizon)\u001b[0m\n\u001b[0;32m     <a href='vscode-notebook-cell:/c%3A/Users/thesu/Desktop/Research%202022%20Microgrid/Research%20code%20repository/Micro-Grid-ML-algo/Machine%20Learning%20Code/Power%20Management%20DeepQ%20RL.ipynb#ch0000013?line=19'>20</a>\u001b[0m score\u001b[39m+\u001b[39m\u001b[39m=\u001b[39m(\u001b[39m-\u001b[39mreward)\n\u001b[0;32m     <a href='vscode-notebook-cell:/c%3A/Users/thesu/Desktop/Research%202022%20Microgrid/Research%20code%20repository/Micro-Grid-ML-algo/Machine%20Learning%20Code/Power%20Management%20DeepQ%20RL.ipynb#ch0000013?line=20'>21</a>\u001b[0m agent\u001b[39m.\u001b[39mstore_transition(state, action_select, \u001b[39m-\u001b[39mreward, new_state, done)       \n\u001b[1;32m---> <a href='vscode-notebook-cell:/c%3A/Users/thesu/Desktop/Research%202022%20Microgrid/Research%20code%20repository/Micro-Grid-ML-algo/Machine%20Learning%20Code/Power%20Management%20DeepQ%20RL.ipynb#ch0000013?line=21'>22</a>\u001b[0m agent\u001b[39m.\u001b[39;49mlearn()                                                           \n\u001b[0;32m     <a href='vscode-notebook-cell:/c%3A/Users/thesu/Desktop/Research%202022%20Microgrid/Research%20code%20repository/Micro-Grid-ML-algo/Machine%20Learning%20Code/Power%20Management%20DeepQ%20RL.ipynb#ch0000013?line=22'>23</a>\u001b[0m state \u001b[39m=\u001b[39m new_state                                                       \n\u001b[0;32m     <a href='vscode-notebook-cell:/c%3A/Users/thesu/Desktop/Research%202022%20Microgrid/Research%20code%20repository/Micro-Grid-ML-algo/Machine%20Learning%20Code/Power%20Management%20DeepQ%20RL.ipynb#ch0000013?line=23'>24</a>\u001b[0m value_print\u001b[39m=\u001b[39m\u001b[39mf\u001b[39m\u001b[39m\"\u001b[39m\u001b[39m\\r\u001b[39;00m\u001b[39mEpisode: \u001b[39m\u001b[39m{\u001b[39;00mepisode\u001b[39m}\u001b[39;00m\u001b[39m Progress \u001b[39m\u001b[39m\"\u001b[39m \u001b[39m+\u001b[39m \u001b[39mstr\u001b[39m(\u001b[39mround\u001b[39m(((env\u001b[39m.\u001b[39m_tracking_timestep)\u001b[39m*\u001b[39m\u001b[39m100\u001b[39m)\u001b[39m/\u001b[39m(env\u001b[39m.\u001b[39mhorizon),\u001b[39m1\u001b[39m))\n",
      "File \u001b[1;32mc:\\Users\\thesu\\Desktop\\Research 2022 Microgrid\\Research code repository\\Micro-Grid-ML-algo\\Machine Learning Code\\DQNEnv.py:118\u001b[0m, in \u001b[0;36mDQAgent.learn\u001b[1;34m(self)\u001b[0m\n\u001b[0;32m    116\u001b[0m loss \u001b[39m=\u001b[39m \u001b[39mself\u001b[39m\u001b[39m.\u001b[39mq\u001b[39m.\u001b[39mloss(prediction, target)\n\u001b[0;32m    117\u001b[0m loss\u001b[39m.\u001b[39mbackward()  \u001b[39m# Compute gradients\u001b[39;00m\n\u001b[1;32m--> 118\u001b[0m \u001b[39mself\u001b[39;49m\u001b[39m.\u001b[39;49mq\u001b[39m.\u001b[39;49moptimizer\u001b[39m.\u001b[39;49mstep()  \u001b[39m# Backpropagate error\u001b[39;00m\n\u001b[0;32m    120\u001b[0m \u001b[39m# decrease epsilon:\u001b[39;00m\n\u001b[0;32m    121\u001b[0m \u001b[39mself\u001b[39m\u001b[39m.\u001b[39mepsilon \u001b[39m=\u001b[39m \u001b[39mself\u001b[39m\u001b[39m.\u001b[39mepsilon \u001b[39m*\u001b[39m \u001b[39mself\u001b[39m\u001b[39m.\u001b[39mepsilon_dec \u001b[39mif\u001b[39;00m \u001b[39mself\u001b[39m\u001b[39m.\u001b[39mepsilon \u001b[39m*\u001b[39m\u001b[39mself\u001b[39m\u001b[39m.\u001b[39mepsilon_dec \\\n\u001b[0;32m    122\u001b[0m                                                   \u001b[39m>\u001b[39m \u001b[39mself\u001b[39m\u001b[39m.\u001b[39mepsilon_min \u001b[39melse\u001b[39;00m \u001b[39mself\u001b[39m\u001b[39m.\u001b[39mepsilon_min\n",
      "File \u001b[1;32mc:\\Users\\thesu\\anaconda3\\lib\\site-packages\\torch\\optim\\optimizer.py:109\u001b[0m, in \u001b[0;36mOptimizer._hook_for_profile.<locals>.profile_hook_step.<locals>.wrapper\u001b[1;34m(*args, **kwargs)\u001b[0m\n\u001b[0;32m    107\u001b[0m profile_name \u001b[39m=\u001b[39m \u001b[39m\"\u001b[39m\u001b[39mOptimizer.step#\u001b[39m\u001b[39m{}\u001b[39;00m\u001b[39m.step\u001b[39m\u001b[39m\"\u001b[39m\u001b[39m.\u001b[39mformat(obj\u001b[39m.\u001b[39m\u001b[39m__class__\u001b[39m\u001b[39m.\u001b[39m\u001b[39m__name__\u001b[39m)\n\u001b[0;32m    108\u001b[0m \u001b[39mwith\u001b[39;00m torch\u001b[39m.\u001b[39mautograd\u001b[39m.\u001b[39mprofiler\u001b[39m.\u001b[39mrecord_function(profile_name):\n\u001b[1;32m--> 109\u001b[0m     \u001b[39mreturn\u001b[39;00m func(\u001b[39m*\u001b[39margs, \u001b[39m*\u001b[39m\u001b[39m*\u001b[39mkwargs)\n",
      "File \u001b[1;32mc:\\Users\\thesu\\anaconda3\\lib\\site-packages\\torch\\autograd\\grad_mode.py:27\u001b[0m, in \u001b[0;36m_DecoratorContextManager.__call__.<locals>.decorate_context\u001b[1;34m(*args, **kwargs)\u001b[0m\n\u001b[0;32m     24\u001b[0m \u001b[39m@functools\u001b[39m\u001b[39m.\u001b[39mwraps(func)\n\u001b[0;32m     25\u001b[0m \u001b[39mdef\u001b[39;00m \u001b[39mdecorate_context\u001b[39m(\u001b[39m*\u001b[39margs, \u001b[39m*\u001b[39m\u001b[39m*\u001b[39mkwargs):\n\u001b[0;32m     26\u001b[0m     \u001b[39mwith\u001b[39;00m \u001b[39mself\u001b[39m\u001b[39m.\u001b[39mclone():\n\u001b[1;32m---> 27\u001b[0m         \u001b[39mreturn\u001b[39;00m func(\u001b[39m*\u001b[39margs, \u001b[39m*\u001b[39m\u001b[39m*\u001b[39mkwargs)\n",
      "File \u001b[1;32mc:\\Users\\thesu\\anaconda3\\lib\\site-packages\\torch\\optim\\adam.py:157\u001b[0m, in \u001b[0;36mAdam.step\u001b[1;34m(self, closure)\u001b[0m\n\u001b[0;32m    153\u001b[0m                 max_exp_avg_sqs\u001b[39m.\u001b[39mappend(state[\u001b[39m'\u001b[39m\u001b[39mmax_exp_avg_sq\u001b[39m\u001b[39m'\u001b[39m])\n\u001b[0;32m    155\u001b[0m             state_steps\u001b[39m.\u001b[39mappend(state[\u001b[39m'\u001b[39m\u001b[39mstep\u001b[39m\u001b[39m'\u001b[39m])\n\u001b[1;32m--> 157\u001b[0m     adam(params_with_grad,\n\u001b[0;32m    158\u001b[0m          grads,\n\u001b[0;32m    159\u001b[0m          exp_avgs,\n\u001b[0;32m    160\u001b[0m          exp_avg_sqs,\n\u001b[0;32m    161\u001b[0m          max_exp_avg_sqs,\n\u001b[0;32m    162\u001b[0m          state_steps,\n\u001b[0;32m    163\u001b[0m          amsgrad\u001b[39m=\u001b[39;49mgroup[\u001b[39m'\u001b[39;49m\u001b[39mamsgrad\u001b[39;49m\u001b[39m'\u001b[39;49m],\n\u001b[0;32m    164\u001b[0m          beta1\u001b[39m=\u001b[39;49mbeta1,\n\u001b[0;32m    165\u001b[0m          beta2\u001b[39m=\u001b[39;49mbeta2,\n\u001b[0;32m    166\u001b[0m          lr\u001b[39m=\u001b[39;49mgroup[\u001b[39m'\u001b[39;49m\u001b[39mlr\u001b[39;49m\u001b[39m'\u001b[39;49m],\n\u001b[0;32m    167\u001b[0m          weight_decay\u001b[39m=\u001b[39;49mgroup[\u001b[39m'\u001b[39;49m\u001b[39mweight_decay\u001b[39;49m\u001b[39m'\u001b[39;49m],\n\u001b[0;32m    168\u001b[0m          eps\u001b[39m=\u001b[39;49mgroup[\u001b[39m'\u001b[39;49m\u001b[39meps\u001b[39;49m\u001b[39m'\u001b[39;49m],\n\u001b[0;32m    169\u001b[0m          maximize\u001b[39m=\u001b[39;49mgroup[\u001b[39m'\u001b[39;49m\u001b[39mmaximize\u001b[39;49m\u001b[39m'\u001b[39;49m],\n\u001b[0;32m    170\u001b[0m          foreach\u001b[39m=\u001b[39;49mgroup[\u001b[39m'\u001b[39;49m\u001b[39mforeach\u001b[39;49m\u001b[39m'\u001b[39;49m],\n\u001b[0;32m    171\u001b[0m          capturable\u001b[39m=\u001b[39;49mgroup[\u001b[39m'\u001b[39;49m\u001b[39mcapturable\u001b[39;49m\u001b[39m'\u001b[39;49m])\n\u001b[0;32m    173\u001b[0m \u001b[39mreturn\u001b[39;00m loss\n",
      "File \u001b[1;32mc:\\Users\\thesu\\anaconda3\\lib\\site-packages\\torch\\optim\\adam.py:213\u001b[0m, in \u001b[0;36madam\u001b[1;34m(params, grads, exp_avgs, exp_avg_sqs, max_exp_avg_sqs, state_steps, foreach, capturable, amsgrad, beta1, beta2, lr, weight_decay, eps, maximize)\u001b[0m\n\u001b[0;32m    210\u001b[0m \u001b[39melse\u001b[39;00m:\n\u001b[0;32m    211\u001b[0m     func \u001b[39m=\u001b[39m _single_tensor_adam\n\u001b[1;32m--> 213\u001b[0m func(params,\n\u001b[0;32m    214\u001b[0m      grads,\n\u001b[0;32m    215\u001b[0m      exp_avgs,\n\u001b[0;32m    216\u001b[0m      exp_avg_sqs,\n\u001b[0;32m    217\u001b[0m      max_exp_avg_sqs,\n\u001b[0;32m    218\u001b[0m      state_steps,\n\u001b[0;32m    219\u001b[0m      amsgrad\u001b[39m=\u001b[39;49mamsgrad,\n\u001b[0;32m    220\u001b[0m      beta1\u001b[39m=\u001b[39;49mbeta1,\n\u001b[0;32m    221\u001b[0m      beta2\u001b[39m=\u001b[39;49mbeta2,\n\u001b[0;32m    222\u001b[0m      lr\u001b[39m=\u001b[39;49mlr,\n\u001b[0;32m    223\u001b[0m      weight_decay\u001b[39m=\u001b[39;49mweight_decay,\n\u001b[0;32m    224\u001b[0m      eps\u001b[39m=\u001b[39;49meps,\n\u001b[0;32m    225\u001b[0m      maximize\u001b[39m=\u001b[39;49mmaximize,\n\u001b[0;32m    226\u001b[0m      capturable\u001b[39m=\u001b[39;49mcapturable)\n",
      "File \u001b[1;32mc:\\Users\\thesu\\anaconda3\\lib\\site-packages\\torch\\optim\\adam.py:264\u001b[0m, in \u001b[0;36m_single_tensor_adam\u001b[1;34m(params, grads, exp_avgs, exp_avg_sqs, max_exp_avg_sqs, state_steps, amsgrad, beta1, beta2, lr, weight_decay, eps, maximize, capturable)\u001b[0m\n\u001b[0;32m    261\u001b[0m     grad \u001b[39m=\u001b[39m grad\u001b[39m.\u001b[39madd(param, alpha\u001b[39m=\u001b[39mweight_decay)\n\u001b[0;32m    263\u001b[0m \u001b[39m# Decay the first and second moment running average coefficient\u001b[39;00m\n\u001b[1;32m--> 264\u001b[0m exp_avg\u001b[39m.\u001b[39;49mmul_(beta1)\u001b[39m.\u001b[39;49madd_(grad, alpha\u001b[39m=\u001b[39;49m\u001b[39m1\u001b[39;49m \u001b[39m-\u001b[39;49m beta1)\n\u001b[0;32m    265\u001b[0m exp_avg_sq\u001b[39m.\u001b[39mmul_(beta2)\u001b[39m.\u001b[39maddcmul_(grad, grad\u001b[39m.\u001b[39mconj(), value\u001b[39m=\u001b[39m\u001b[39m1\u001b[39m \u001b[39m-\u001b[39m beta2)\n\u001b[0;32m    267\u001b[0m \u001b[39mif\u001b[39;00m capturable:\n",
      "\u001b[1;31mKeyboardInterrupt\u001b[0m: "
     ]
    }
   ],
   "source": [
    "trained_agent = train_new_network(env=mg1, n_episodes=100, nb_actions=5, horizon = DAY*7)"
   ]
  },
  {
   "cell_type": "code",
   "execution_count": null,
   "metadata": {},
   "outputs": [],
   "source": [
    "with open(r'C:\\Users\\thesu\\Desktop\\New_Agent_7_22_2022.pkl', 'wb') as f:  \n",
    "     pkl.dump(obj = trained_agent, file=f)"
   ]
  },
  {
   "cell_type": "markdown",
   "metadata": {},
   "source": [
    "Trained Network Storage"
   ]
  },
  {
   "cell_type": "markdown",
   "metadata": {},
   "source": [
    "with open(r'C:\\Users\\thesu\\Desktop\\Trained Agent 7_3_2022.pkl', 'wb') as f:  \n",
    "    pkl.dump(obj =trained_agent, file=f)"
   ]
  },
  {
   "cell_type": "markdown",
   "metadata": {},
   "source": [
    "Object Loading"
   ]
  },
  {
   "cell_type": "markdown",
   "metadata": {},
   "source": [
    "with open(r'C:\\Users\\thesu\\Desktop\\Trained Agent 7_3_2022.pkl', 'rb') as f:  \n",
    "    loaded_agent = pkl.load(f)"
   ]
  },
  {
   "cell_type": "code",
   "execution_count": null,
   "metadata": {},
   "outputs": [],
   "source": [
    "score, test_score_record, action_record = test_grid(env = mg1, horizon = YEAR, agent = trained_agent)"
   ]
  },
  {
   "cell_type": "code",
   "execution_count": null,
   "metadata": {},
   "outputs": [],
   "source": [
    "counter = 0\n",
    "for i in range(len(action_record)):\n",
    "    if action_record[i] == 2:\n",
    "        counter += 1\n",
    "print(counter)"
   ]
  },
  {
   "cell_type": "code",
   "execution_count": null,
   "metadata": {},
   "outputs": [],
   "source": [
    "plt.hist(action_record)\n",
    "plt.show()"
   ]
  },
  {
   "cell_type": "code",
   "execution_count": null,
   "metadata": {},
   "outputs": [],
   "source": [
    "r_score = randomize(mg=mg1, nb_actions = 5, horizon = YEAR)\n"
   ]
  },
  {
   "cell_type": "code",
   "execution_count": null,
   "metadata": {},
   "outputs": [],
   "source": [
    "print(r_score)"
   ]
  },
  {
   "cell_type": "code",
   "execution_count": null,
   "metadata": {},
   "outputs": [],
   "source": [
    "# plt.plot(r_score_record)\n",
    "# plt.show()"
   ]
  },
  {
   "cell_type": "code",
   "execution_count": null,
   "metadata": {},
   "outputs": [],
   "source": [
    "percentage = ((score)/(r_score)-1)*100"
   ]
  },
  {
   "cell_type": "code",
   "execution_count": null,
   "metadata": {},
   "outputs": [],
   "source": [
    "print(str(round(percentage,2))+\" %\")"
   ]
  },
  {
   "cell_type": "markdown",
   "metadata": {},
   "source": [
    "15 mins = 29.32%"
   ]
  },
  {
   "cell_type": "code",
   "execution_count": null,
   "metadata": {},
   "outputs": [],
   "source": [
    "score2 = -score"
   ]
  }
 ],
 "metadata": {
  "kernelspec": {
   "display_name": "Python 3.9.12 ('base')",
   "language": "python",
   "name": "python3"
  },
  "language_info": {
   "codemirror_mode": {
    "name": "ipython",
    "version": 3
   },
   "file_extension": ".py",
   "mimetype": "text/x-python",
   "name": "python",
   "nbconvert_exporter": "python",
   "pygments_lexer": "ipython3",
   "version": "3.9.12"
  },
  "vscode": {
   "interpreter": {
    "hash": "dd887db2f66529d4636c400342ad015b782a82dfbd794ccac1d8c6ae30a1995a"
   }
  }
 },
 "nbformat": 4,
 "nbformat_minor": 4
}
