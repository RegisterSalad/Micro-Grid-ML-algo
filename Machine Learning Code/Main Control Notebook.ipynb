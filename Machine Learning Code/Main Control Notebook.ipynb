{
 "cells": [
  {
   "cell_type": "markdown",
   "metadata": {},
   "source": [
    "# Central RL control notebook"
   ]
  },
  {
   "cell_type": "code",
   "execution_count": 1,
   "metadata": {},
   "outputs": [],
   "source": [
    "import sys\n",
    "from pymgrid import MicrogridGenerator as mg\n",
    "import matplotlib.pyplot as plt\n",
    "import numpy as np\n",
    "from Storage import StorageSuite as st\n",
    "from pathlib import Path\n",
    "from DQNEnv import DQAgent\n",
    "from Main import GridOptimizer"
   ]
  },
  {
   "cell_type": "markdown",
   "metadata": {},
   "source": [
    "NN is already Trained. \n",
    "Address: r\"C:\\Users\\thesu\\Desktop\\Trained Agent Object.pkl\""
   ]
  },
  {
   "cell_type": "code",
   "execution_count": 2,
   "metadata": {},
   "outputs": [],
   "source": [
    "data_path = r\"C:\\Users\\thesu\\Desktop\\Research 2022 Microgrid\\Research code repository\\Micro-Grid-ML-algo\\data\\dummy_data_v1.csv\"\n",
    "constraint = 1E6 # Value of grid in dollars\n",
    "go = GridOptimizer(data_path=data_path, constraint = constraint)"
   ]
  },
  {
   "cell_type": "markdown",
   "metadata": {},
   "source": [
    "Use GridOptimizer.start to run the optimization"
   ]
  },
  {
   "cell_type": "code",
   "execution_count": 3,
   "metadata": {},
   "outputs": [
    {
     "name": "stdout",
     "output_type": "stream",
     "text": [
      " Starting function optimization"
     ]
    },
    {
     "data": {
      "text/html": [
       "<div>\n",
       "<style scoped>\n",
       "    .dataframe tbody tr th:only-of-type {\n",
       "        vertical-align: middle;\n",
       "    }\n",
       "\n",
       "    .dataframe tbody tr th {\n",
       "        vertical-align: top;\n",
       "    }\n",
       "\n",
       "    .dataframe thead th {\n",
       "        text-align: right;\n",
       "    }\n",
       "</style>\n",
       "<table border=\"1\" class=\"dataframe\">\n",
       "  <thead>\n",
       "    <tr style=\"text-align: right;\">\n",
       "      <th></th>\n",
       "      <th>load</th>\n",
       "      <th>load_size</th>\n",
       "      <th>cost_loss_load</th>\n",
       "      <th>cost_overgeneration</th>\n",
       "      <th>cost_co2</th>\n",
       "      <th>PV_rated_power</th>\n",
       "      <th>grid_weak</th>\n",
       "      <th>grid_power_import</th>\n",
       "      <th>grid_power_export</th>\n",
       "      <th>genset_polynom_order</th>\n",
       "      <th>genset_polynom_0</th>\n",
       "      <th>genset_polynom_1</th>\n",
       "      <th>genset_polynom_2</th>\n",
       "      <th>genset_rated_power</th>\n",
       "      <th>genset_pmin</th>\n",
       "      <th>genset_pmax</th>\n",
       "      <th>fuel_cost</th>\n",
       "      <th>genset_co2</th>\n",
       "    </tr>\n",
       "  </thead>\n",
       "  <tbody>\n",
       "    <tr>\n",
       "      <th>0</th>\n",
       "      <td>350000</td>\n",
       "      <td>350000</td>\n",
       "      <td>10</td>\n",
       "      <td>1</td>\n",
       "      <td>0.1</td>\n",
       "      <td>217000.0</td>\n",
       "      <td>1</td>\n",
       "      <td>700000</td>\n",
       "      <td>700000</td>\n",
       "      <td>3</td>\n",
       "      <td>0.510391</td>\n",
       "      <td>0.995274</td>\n",
       "      <td>0.087814</td>\n",
       "      <td>388889</td>\n",
       "      <td>0.05</td>\n",
       "      <td>0.9</td>\n",
       "      <td>0.4</td>\n",
       "      <td>2</td>\n",
       "    </tr>\n",
       "  </tbody>\n",
       "</table>\n",
       "</div>"
      ],
      "text/plain": [
       "     load  load_size  cost_loss_load  cost_overgeneration  cost_co2  \\\n",
       "0  350000     350000              10                    1       0.1   \n",
       "\n",
       "   PV_rated_power  grid_weak  grid_power_import  grid_power_export  \\\n",
       "0        217000.0          1             700000             700000   \n",
       "\n",
       "   genset_polynom_order  genset_polynom_0  genset_polynom_1  genset_polynom_2  \\\n",
       "0                     3          0.510391          0.995274          0.087814   \n",
       "\n",
       "   genset_rated_power  genset_pmin  genset_pmax  fuel_cost  genset_co2  \n",
       "0              388889         0.05          0.9        0.4           2  "
      ]
     },
     "metadata": {},
     "output_type": "display_data"
    },
    {
     "name": "stdout",
     "output_type": "stream",
     "text": [
      "Grid storage capacities are: Litium Ion Storage : 116666.67 kWh, Ion Flow Battery: 116666.67 kWh, Flywheel Storage: 116666.67 kWh, load is 350000 kW.\n",
      "Grid total cost: $592796.99, constraint is 1000000.0. Delta is -407203.01\n",
      "Starting score testing\n",
      "\n",
      "Progress 99.85 %"
     ]
    }
   ],
   "source": [
    "GridOptimizer.start(self=go)"
   ]
  },
  {
   "cell_type": "code",
   "execution_count": 4,
   "metadata": {},
   "outputs": [
    {
     "name": "stdout",
     "output_type": "stream",
     "text": [
      "20738777.06651938\n"
     ]
    }
   ],
   "source": [
    "print(go.score_list[0])"
   ]
  }
 ],
 "metadata": {
  "kernelspec": {
   "display_name": "Python 3.9.12 ('base')",
   "language": "python",
   "name": "python3"
  },
  "language_info": {
   "codemirror_mode": {
    "name": "ipython",
    "version": 3
   },
   "file_extension": ".py",
   "mimetype": "text/x-python",
   "name": "python",
   "nbconvert_exporter": "python",
   "pygments_lexer": "ipython3",
   "version": "3.9.12"
  },
  "vscode": {
   "interpreter": {
    "hash": "dd887db2f66529d4636c400342ad015b782a82dfbd794ccac1d8c6ae30a1995a"
   }
  }
 },
 "nbformat": 4,
 "nbformat_minor": 4
}
