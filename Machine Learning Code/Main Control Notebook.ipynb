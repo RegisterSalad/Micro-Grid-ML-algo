{
 "cells": [
  {
   "cell_type": "markdown",
   "metadata": {},
   "source": [
    "# Central RL control notebook"
   ]
  },
  {
   "cell_type": "code",
   "execution_count": 1,
   "metadata": {},
   "outputs": [],
   "source": [
    "from Main import GridOptimizer\n",
    "import sys\n",
    "from pymgrid import MicrogridGenerator as mg\n",
    "import numpy as np\n",
    "from Storage import StorageSuite\n",
    "from DQNEnv import DQAgent # Neural Net implimentation module\n",
    "import pickle as pkl # Neural Network storage and loading\n",
    "from scipy.optimize import minimize\n",
    "from scipy.optimize import LinearConstraint\n",
    "import ast\n",
    "import operator as op\n",
    "from IPython.display import display, clear_output\n",
    "############\n",
    "''' the following is a string -> evaluation parser '''\n",
    "operators = {ast.Add: op.add, ast.Sub: op.sub, ast.Mult: op.mul,\n",
    "             ast.Div: op.truediv, ast.Pow: op.pow, ast.BitXor: op.xor,\n",
    "             ast.USub: op.neg}\n",
    "\n",
    "def eval_expr(expr) -> float :\n",
    "    if expr != '':\n",
    "        return eval_(ast.parse(expr, mode='eval').body)\n",
    "    else:\n",
    "        return None\n",
    "\n",
    "def eval_(node) -> float:\n",
    "    if isinstance(node, ast.Num): # <number>\n",
    "        return node.n\n",
    "    elif isinstance(node, ast.BinOp): # <left> <operator> <right>\n",
    "        return operators[type(node.op)](float(eval_(node.left)), float(eval_(node.right)))\n",
    "    elif isinstance(node, ast.UnaryOp): # <operator> <operand> e.g., -1\n",
    "        return operators[type(node.op)](eval_(node.operand))\n",
    "    else:\n",
    "        raise TypeError(node)\n",
    "############"
   ]
  },
  {
   "cell_type": "code",
   "execution_count": 2,
   "metadata": {},
   "outputs": [],
   "source": [
<<<<<<< HEAD
    "data_path = r\"C:\\Users\\thesu\\Desktop\\Research 2022 Microgrid\\Research code repository\\Micro-Grid-ML-algo\\data\\dummy_data_v1.csv\"\n",
    "constraint = 900_000 # Value of grid in dollars\n",
=======
    "data_path = r\"C:\\Users\\thesu\\Desktop\\Research 2022 Microgrid\\Research code repository\\Micro-Grid-ML-algo\\data\\energy_storage_devices_v6.csv\"\n",
    "constraint = 5E5 # Value of grid in dollars\n",
>>>>>>> 0e399769a51cce495588d752a103c35ed370f6d6
    "go = GridOptimizer(data_path=data_path, cost_limit = constraint)"
   ]
  },
  {
   "cell_type": "markdown",
   "metadata": {},
   "source": [
    "Use GridOptimizer.start to run the optimization"
   ]
  },
  {
   "cell_type": "markdown",
   "metadata": {},
   "source": [
    "optimized = go.start_minimize()"
   ]
  },
  {
   "cell_type": "code",
   "execution_count": 3,
   "metadata": {},
   "outputs": [
    {
     "name": "stdout",
     "output_type": "stream",
     "text": [
      "35552189.25689132\n",
      "Score percentage: 100.00001403310257%, params: [195709.31191739 188623.92273416 190098.41128671]"
     ]
    },
    {
     "ename": "KeyboardInterrupt",
     "evalue": "",
     "output_type": "error",
     "traceback": [
      "\u001b[1;31m---------------------------------------------------------------------------\u001b[0m",
      "\u001b[1;31mKeyboardInterrupt\u001b[0m                         Traceback (most recent call last)",
      "\u001b[1;32mc:\\Users\\thesu\\Desktop\\Research 2022 Microgrid\\Research code repository\\Micro-Grid-ML-algo\\Machine Learning Code\\Main Control Notebook.ipynb Cell 7\u001b[0m in \u001b[0;36m<cell line: 1>\u001b[1;34m()\u001b[0m\n\u001b[1;32m----> <a href='vscode-notebook-cell:/c%3A/Users/thesu/Desktop/Research%202022%20Microgrid/Research%20code%20repository/Micro-Grid-ML-algo/Machine%20Learning%20Code/Main%20Control%20Notebook.ipynb#ch0000006?line=0'>1</a>\u001b[0m op \u001b[39m=\u001b[39m go\u001b[39m.\u001b[39;49mstart_minimize()\n",
      "File \u001b[1;32mc:\\Users\\thesu\\Desktop\\Research 2022 Microgrid\\Research code repository\\Micro-Grid-ML-algo\\Machine Learning Code\\Main.py:125\u001b[0m, in \u001b[0;36mGridOptimizer.start_minimize\u001b[1;34m(self)\u001b[0m\n\u001b[0;32m    123\u001b[0m \u001b[39mprint\u001b[39m(\u001b[39mself\u001b[39m\u001b[39m.\u001b[39minitial_score)\n\u001b[0;32m    124\u001b[0m initial_guess \u001b[39m=\u001b[39m [\u001b[39mself\u001b[39m\u001b[39m.\u001b[39mli_battery\u001b[39m.\u001b[39mcap, \u001b[39mself\u001b[39m\u001b[39m.\u001b[39mflow_battery\u001b[39m.\u001b[39mcap, \u001b[39mself\u001b[39m\u001b[39m.\u001b[39mflywheel\u001b[39m.\u001b[39mcap]               \n\u001b[1;32m--> 125\u001b[0m optimized_function \u001b[39m=\u001b[39m minimize(fun \u001b[39m=\u001b[39;49m \u001b[39mself\u001b[39;49m\u001b[39m.\u001b[39;49mcap_function, x0 \u001b[39m=\u001b[39;49m initial_guess, method\u001b[39m=\u001b[39;49m\u001b[39m'\u001b[39;49m\u001b[39mtrust-constr\u001b[39;49m\u001b[39m'\u001b[39;49m, constraints\u001b[39m=\u001b[39;49mconstraints, bounds \u001b[39m=\u001b[39;49m (bnds, bnds, bnds))\n\u001b[0;32m    126\u001b[0m \u001b[39mreturn\u001b[39;00m optimized_function\n",
      "File \u001b[1;32mc:\\Users\\thesu\\anaconda3\\lib\\site-packages\\scipy\\optimize\\_minimize.py:704\u001b[0m, in \u001b[0;36mminimize\u001b[1;34m(fun, x0, args, method, jac, hess, hessp, bounds, constraints, tol, callback, options)\u001b[0m\n\u001b[0;32m    701\u001b[0m     res \u001b[39m=\u001b[39m _minimize_slsqp(fun, x0, args, jac, bounds,\n\u001b[0;32m    702\u001b[0m                           constraints, callback\u001b[39m=\u001b[39mcallback, \u001b[39m*\u001b[39m\u001b[39m*\u001b[39moptions)\n\u001b[0;32m    703\u001b[0m \u001b[39melif\u001b[39;00m meth \u001b[39m==\u001b[39m \u001b[39m'\u001b[39m\u001b[39mtrust-constr\u001b[39m\u001b[39m'\u001b[39m:\n\u001b[1;32m--> 704\u001b[0m     res \u001b[39m=\u001b[39m _minimize_trustregion_constr(fun, x0, args, jac, hess, hessp,\n\u001b[0;32m    705\u001b[0m                                        bounds, constraints,\n\u001b[0;32m    706\u001b[0m                                        callback\u001b[39m=\u001b[39mcallback, \u001b[39m*\u001b[39m\u001b[39m*\u001b[39moptions)\n\u001b[0;32m    707\u001b[0m \u001b[39melif\u001b[39;00m meth \u001b[39m==\u001b[39m \u001b[39m'\u001b[39m\u001b[39mdogleg\u001b[39m\u001b[39m'\u001b[39m:\n\u001b[0;32m    708\u001b[0m     res \u001b[39m=\u001b[39m _minimize_dogleg(fun, x0, args, jac, hess,\n\u001b[0;32m    709\u001b[0m                            callback\u001b[39m=\u001b[39mcallback, \u001b[39m*\u001b[39m\u001b[39m*\u001b[39moptions)\n",
      "File \u001b[1;32mc:\\Users\\thesu\\anaconda3\\lib\\site-packages\\scipy\\optimize\\_trustregion_constr\\minimize_trustregion_constr.py:509\u001b[0m, in \u001b[0;36m_minimize_trustregion_constr\u001b[1;34m(fun, x0, args, grad, hess, hessp, bounds, constraints, xtol, gtol, barrier_tol, sparse_jacobian, callback, maxiter, verbose, finite_diff_rel_step, initial_constr_penalty, initial_tr_radius, initial_barrier_parameter, initial_barrier_tolerance, factorization_method, disp)\u001b[0m\n\u001b[0;32m    500\u001b[0m     _, result \u001b[39m=\u001b[39m equality_constrained_sqp(\n\u001b[0;32m    501\u001b[0m         fun_and_constr, grad_and_jac, lagrangian_hess,\n\u001b[0;32m    502\u001b[0m         x0, objective\u001b[39m.\u001b[39mf, objective\u001b[39m.\u001b[39mg,\n\u001b[1;32m   (...)\u001b[0m\n\u001b[0;32m    505\u001b[0m         initial_constr_penalty, initial_tr_radius,\n\u001b[0;32m    506\u001b[0m         factorization_method)\n\u001b[0;32m    508\u001b[0m \u001b[39melif\u001b[39;00m method \u001b[39m==\u001b[39m \u001b[39m'\u001b[39m\u001b[39mtr_interior_point\u001b[39m\u001b[39m'\u001b[39m:\n\u001b[1;32m--> 509\u001b[0m     _, result \u001b[39m=\u001b[39m tr_interior_point(\n\u001b[0;32m    510\u001b[0m         objective\u001b[39m.\u001b[39;49mfun, objective\u001b[39m.\u001b[39;49mgrad, lagrangian_hess,\n\u001b[0;32m    511\u001b[0m         n_vars, canonical\u001b[39m.\u001b[39;49mn_ineq, canonical\u001b[39m.\u001b[39;49mn_eq,\n\u001b[0;32m    512\u001b[0m         canonical\u001b[39m.\u001b[39;49mfun, canonical\u001b[39m.\u001b[39;49mjac,\n\u001b[0;32m    513\u001b[0m         x0, objective\u001b[39m.\u001b[39;49mf, objective\u001b[39m.\u001b[39;49mg,\n\u001b[0;32m    514\u001b[0m         c_ineq0, J_ineq0, c_eq0, J_eq0,\n\u001b[0;32m    515\u001b[0m         stop_criteria,\n\u001b[0;32m    516\u001b[0m         canonical\u001b[39m.\u001b[39;49mkeep_feasible,\n\u001b[0;32m    517\u001b[0m         xtol, state, initial_barrier_parameter,\n\u001b[0;32m    518\u001b[0m         initial_barrier_tolerance,\n\u001b[0;32m    519\u001b[0m         initial_constr_penalty, initial_tr_radius,\n\u001b[0;32m    520\u001b[0m         factorization_method)\n\u001b[0;32m    522\u001b[0m \u001b[39m# Status 3 occurs when the callback function requests termination,\u001b[39;00m\n\u001b[0;32m    523\u001b[0m \u001b[39m# this is assumed to not be a success.\u001b[39;00m\n\u001b[0;32m    524\u001b[0m result\u001b[39m.\u001b[39msuccess \u001b[39m=\u001b[39m \u001b[39mTrue\u001b[39;00m \u001b[39mif\u001b[39;00m result\u001b[39m.\u001b[39mstatus \u001b[39min\u001b[39;00m (\u001b[39m1\u001b[39m, \u001b[39m2\u001b[39m) \u001b[39melse\u001b[39;00m \u001b[39mFalse\u001b[39;00m\n",
      "File \u001b[1;32mc:\\Users\\thesu\\anaconda3\\lib\\site-packages\\scipy\\optimize\\_trustregion_constr\\tr_interior_point.py:321\u001b[0m, in \u001b[0;36mtr_interior_point\u001b[1;34m(fun, grad, lagr_hess, n_vars, n_ineq, n_eq, constr, jac, x0, fun0, grad0, constr_ineq0, jac_ineq0, constr_eq0, jac_eq0, stop_criteria, enforce_feasibility, xtol, state, initial_barrier_parameter, initial_tolerance, initial_penalty, initial_trust_radius, factorization_method)\u001b[0m\n\u001b[0;32m    318\u001b[0m \u001b[39m# Solves a sequence of barrier problems\u001b[39;00m\n\u001b[0;32m    319\u001b[0m \u001b[39mwhile\u001b[39;00m \u001b[39mTrue\u001b[39;00m:\n\u001b[0;32m    320\u001b[0m     \u001b[39m# Solve SQP subproblem\u001b[39;00m\n\u001b[1;32m--> 321\u001b[0m     z, state \u001b[39m=\u001b[39m equality_constrained_sqp(\n\u001b[0;32m    322\u001b[0m         subprob\u001b[39m.\u001b[39;49mfunction_and_constraints,\n\u001b[0;32m    323\u001b[0m         subprob\u001b[39m.\u001b[39;49mgradient_and_jacobian,\n\u001b[0;32m    324\u001b[0m         subprob\u001b[39m.\u001b[39;49mlagrangian_hessian,\n\u001b[0;32m    325\u001b[0m         z, fun0_subprob, grad0_subprob,\n\u001b[0;32m    326\u001b[0m         constr0_subprob, jac0_subprob, subprob\u001b[39m.\u001b[39;49mstop_criteria,\n\u001b[0;32m    327\u001b[0m         state, initial_penalty, trust_radius,\n\u001b[0;32m    328\u001b[0m         factorization_method, trust_lb, trust_ub, subprob\u001b[39m.\u001b[39;49mscaling)\n\u001b[0;32m    329\u001b[0m     \u001b[39mif\u001b[39;00m subprob\u001b[39m.\u001b[39mterminate:\n\u001b[0;32m    330\u001b[0m         \u001b[39mbreak\u001b[39;00m\n",
      "File \u001b[1;32mc:\\Users\\thesu\\anaconda3\\lib\\site-packages\\scipy\\optimize\\_trustregion_constr\\equality_constrained_sqp.py:147\u001b[0m, in \u001b[0;36mequality_constrained_sqp\u001b[1;34m(fun_and_constr, grad_and_jac, lagr_hess, x0, fun0, grad0, constr0, jac0, stop_criteria, state, initial_penalty, initial_trust_radius, factorization_method, trust_lb, trust_ub, scaling)\u001b[0m\n\u001b[0;32m    145\u001b[0m \u001b[39m# Evaluate function and constraints at trial point\u001b[39;00m\n\u001b[0;32m    146\u001b[0m x_next \u001b[39m=\u001b[39m x \u001b[39m+\u001b[39m S\u001b[39m.\u001b[39mdot(d)\n\u001b[1;32m--> 147\u001b[0m f_next, b_next \u001b[39m=\u001b[39m fun_and_constr(x_next)\n\u001b[0;32m    148\u001b[0m \u001b[39m# Compute merit function at trial point\u001b[39;00m\n\u001b[0;32m    149\u001b[0m merit_function_next \u001b[39m=\u001b[39m f_next \u001b[39m+\u001b[39m penalty\u001b[39m*\u001b[39mnorm(b_next)\n",
      "File \u001b[1;32mc:\\Users\\thesu\\anaconda3\\lib\\site-packages\\scipy\\optimize\\_trustregion_constr\\tr_interior_point.py:83\u001b[0m, in \u001b[0;36mBarrierSubproblem.function_and_constraints\u001b[1;34m(self, z)\u001b[0m\n\u001b[0;32m     81\u001b[0m \u001b[39m# Compute function and constraints\u001b[39;00m\n\u001b[0;32m     82\u001b[0m f \u001b[39m=\u001b[39m \u001b[39mself\u001b[39m\u001b[39m.\u001b[39mfun(x)\n\u001b[1;32m---> 83\u001b[0m c_eq, c_ineq \u001b[39m=\u001b[39m \u001b[39mself\u001b[39;49m\u001b[39m.\u001b[39;49mconstr(x)\n\u001b[0;32m     84\u001b[0m \u001b[39m# Return objective function and constraints\u001b[39;00m\n\u001b[0;32m     85\u001b[0m \u001b[39mreturn\u001b[39;00m (\u001b[39mself\u001b[39m\u001b[39m.\u001b[39m_compute_function(f, c_ineq, s),\n\u001b[0;32m     86\u001b[0m         \u001b[39mself\u001b[39m\u001b[39m.\u001b[39m_compute_constr(c_ineq, c_eq, s))\n",
      "File \u001b[1;32mc:\\Users\\thesu\\anaconda3\\lib\\site-packages\\scipy\\optimize\\_trustregion_constr\\canonical_constraint.py:104\u001b[0m, in \u001b[0;36mCanonicalConstraint.concatenate.<locals>.fun\u001b[1;34m(x)\u001b[0m\n\u001b[0;32m    101\u001b[0m \u001b[39mdef\u001b[39;00m \u001b[39mfun\u001b[39m(x):\n\u001b[0;32m    102\u001b[0m     \u001b[39mif\u001b[39;00m canonical_constraints:\n\u001b[0;32m    103\u001b[0m         eq_all, ineq_all \u001b[39m=\u001b[39m \u001b[39mzip\u001b[39m(\n\u001b[1;32m--> 104\u001b[0m                 \u001b[39m*\u001b[39m[c\u001b[39m.\u001b[39mfun(x) \u001b[39mfor\u001b[39;00m c \u001b[39min\u001b[39;00m canonical_constraints])\n\u001b[0;32m    105\u001b[0m     \u001b[39melse\u001b[39;00m:\n\u001b[0;32m    106\u001b[0m         eq_all, ineq_all \u001b[39m=\u001b[39m [], []\n",
      "File \u001b[1;32mc:\\Users\\thesu\\anaconda3\\lib\\site-packages\\scipy\\optimize\\_trustregion_constr\\canonical_constraint.py:104\u001b[0m, in \u001b[0;36m<listcomp>\u001b[1;34m(.0)\u001b[0m\n\u001b[0;32m    101\u001b[0m \u001b[39mdef\u001b[39;00m \u001b[39mfun\u001b[39m(x):\n\u001b[0;32m    102\u001b[0m     \u001b[39mif\u001b[39;00m canonical_constraints:\n\u001b[0;32m    103\u001b[0m         eq_all, ineq_all \u001b[39m=\u001b[39m \u001b[39mzip\u001b[39m(\n\u001b[1;32m--> 104\u001b[0m                 \u001b[39m*\u001b[39m[c\u001b[39m.\u001b[39;49mfun(x) \u001b[39mfor\u001b[39;00m c \u001b[39min\u001b[39;00m canonical_constraints])\n\u001b[0;32m    105\u001b[0m     \u001b[39melse\u001b[39;00m:\n\u001b[0;32m    106\u001b[0m         eq_all, ineq_all \u001b[39m=\u001b[39m [], []\n",
      "File \u001b[1;32mc:\\Users\\thesu\\anaconda3\\lib\\site-packages\\scipy\\optimize\\_trustregion_constr\\canonical_constraint.py:238\u001b[0m, in \u001b[0;36mCanonicalConstraint._greater_to_canonical.<locals>.fun\u001b[1;34m(x)\u001b[0m\n\u001b[0;32m    237\u001b[0m \u001b[39mdef\u001b[39;00m \u001b[39mfun\u001b[39m(x):\n\u001b[1;32m--> 238\u001b[0m     \u001b[39mreturn\u001b[39;00m empty_fun, lb \u001b[39m-\u001b[39m cfun\u001b[39m.\u001b[39;49mfun(x)\n",
      "File \u001b[1;32mc:\\Users\\thesu\\anaconda3\\lib\\site-packages\\scipy\\optimize\\_differentiable_functions.py:534\u001b[0m, in \u001b[0;36mVectorFunction.fun\u001b[1;34m(self, x)\u001b[0m\n\u001b[0;32m    533\u001b[0m \u001b[39mdef\u001b[39;00m \u001b[39mfun\u001b[39m(\u001b[39mself\u001b[39m, x):\n\u001b[1;32m--> 534\u001b[0m     \u001b[39mself\u001b[39;49m\u001b[39m.\u001b[39;49m_update_x(x)\n\u001b[0;32m    535\u001b[0m     \u001b[39mself\u001b[39m\u001b[39m.\u001b[39m_update_fun()\n\u001b[0;32m    536\u001b[0m     \u001b[39mreturn\u001b[39;00m \u001b[39mself\u001b[39m\u001b[39m.\u001b[39mf\n",
      "File \u001b[1;32mc:\\Users\\thesu\\anaconda3\\lib\\site-packages\\scipy\\optimize\\_differentiable_functions.py:516\u001b[0m, in \u001b[0;36mVectorFunction._update_x\u001b[1;34m(self, x)\u001b[0m\n\u001b[0;32m    514\u001b[0m \u001b[39mdef\u001b[39;00m \u001b[39m_update_x\u001b[39m(\u001b[39mself\u001b[39m, x):\n\u001b[0;32m    515\u001b[0m     \u001b[39mif\u001b[39;00m \u001b[39mnot\u001b[39;00m np\u001b[39m.\u001b[39marray_equal(x, \u001b[39mself\u001b[39m\u001b[39m.\u001b[39mx):\n\u001b[1;32m--> 516\u001b[0m         \u001b[39mself\u001b[39;49m\u001b[39m.\u001b[39;49m_update_x_impl(x)\n",
      "File \u001b[1;32mc:\\Users\\thesu\\anaconda3\\lib\\site-packages\\scipy\\optimize\\_differentiable_functions.py:499\u001b[0m, in \u001b[0;36mVectorFunction.__init__.<locals>.update_x\u001b[1;34m(x)\u001b[0m\n\u001b[0;32m    497\u001b[0m \u001b[39mself\u001b[39m\u001b[39m.\u001b[39mJ_updated \u001b[39m=\u001b[39m \u001b[39mFalse\u001b[39;00m\n\u001b[0;32m    498\u001b[0m \u001b[39mself\u001b[39m\u001b[39m.\u001b[39mH_updated \u001b[39m=\u001b[39m \u001b[39mFalse\u001b[39;00m\n\u001b[1;32m--> 499\u001b[0m \u001b[39mself\u001b[39;49m\u001b[39m.\u001b[39;49m_update_hess()\n",
      "File \u001b[1;32mc:\\Users\\thesu\\anaconda3\\lib\\site-packages\\scipy\\optimize\\_differentiable_functions.py:530\u001b[0m, in \u001b[0;36mVectorFunction._update_hess\u001b[1;34m(self)\u001b[0m\n\u001b[0;32m    528\u001b[0m \u001b[39mdef\u001b[39;00m \u001b[39m_update_hess\u001b[39m(\u001b[39mself\u001b[39m):\n\u001b[0;32m    529\u001b[0m     \u001b[39mif\u001b[39;00m \u001b[39mnot\u001b[39;00m \u001b[39mself\u001b[39m\u001b[39m.\u001b[39mH_updated:\n\u001b[1;32m--> 530\u001b[0m         \u001b[39mself\u001b[39;49m\u001b[39m.\u001b[39;49m_update_hess_impl()\n\u001b[0;32m    531\u001b[0m         \u001b[39mself\u001b[39m\u001b[39m.\u001b[39mH_updated \u001b[39m=\u001b[39m \u001b[39mTrue\u001b[39;00m\n",
      "File \u001b[1;32mc:\\Users\\thesu\\anaconda3\\lib\\site-packages\\scipy\\optimize\\_differentiable_functions.py:480\u001b[0m, in \u001b[0;36mVectorFunction.__init__.<locals>.update_hess\u001b[1;34m()\u001b[0m\n\u001b[0;32m    479\u001b[0m \u001b[39mdef\u001b[39;00m \u001b[39mupdate_hess\u001b[39m():\n\u001b[1;32m--> 480\u001b[0m     \u001b[39mself\u001b[39;49m\u001b[39m.\u001b[39;49m_update_jac()\n\u001b[0;32m    481\u001b[0m     \u001b[39m# When v is updated before x was updated, then x_prev and\u001b[39;00m\n\u001b[0;32m    482\u001b[0m     \u001b[39m# J_prev are None and we need this check.\u001b[39;00m\n\u001b[0;32m    483\u001b[0m     \u001b[39mif\u001b[39;00m \u001b[39mself\u001b[39m\u001b[39m.\u001b[39mx_prev \u001b[39mis\u001b[39;00m \u001b[39mnot\u001b[39;00m \u001b[39mNone\u001b[39;00m \u001b[39mand\u001b[39;00m \u001b[39mself\u001b[39m\u001b[39m.\u001b[39mJ_prev \u001b[39mis\u001b[39;00m \u001b[39mnot\u001b[39;00m \u001b[39mNone\u001b[39;00m:\n",
      "File \u001b[1;32mc:\\Users\\thesu\\anaconda3\\lib\\site-packages\\scipy\\optimize\\_differentiable_functions.py:525\u001b[0m, in \u001b[0;36mVectorFunction._update_jac\u001b[1;34m(self)\u001b[0m\n\u001b[0;32m    523\u001b[0m \u001b[39mdef\u001b[39;00m \u001b[39m_update_jac\u001b[39m(\u001b[39mself\u001b[39m):\n\u001b[0;32m    524\u001b[0m     \u001b[39mif\u001b[39;00m \u001b[39mnot\u001b[39;00m \u001b[39mself\u001b[39m\u001b[39m.\u001b[39mJ_updated:\n\u001b[1;32m--> 525\u001b[0m         \u001b[39mself\u001b[39;49m\u001b[39m.\u001b[39;49m_update_jac_impl()\n\u001b[0;32m    526\u001b[0m         \u001b[39mself\u001b[39m\u001b[39m.\u001b[39mJ_updated \u001b[39m=\u001b[39m \u001b[39mTrue\u001b[39;00m\n",
      "File \u001b[1;32mc:\\Users\\thesu\\anaconda3\\lib\\site-packages\\scipy\\optimize\\_differentiable_functions.py:426\u001b[0m, in \u001b[0;36mVectorFunction.__init__.<locals>.update_jac\u001b[1;34m()\u001b[0m\n\u001b[0;32m    425\u001b[0m \u001b[39mdef\u001b[39;00m \u001b[39mupdate_jac\u001b[39m():\n\u001b[1;32m--> 426\u001b[0m     \u001b[39mself\u001b[39;49m\u001b[39m.\u001b[39;49m_update_fun()\n\u001b[0;32m    427\u001b[0m     \u001b[39mself\u001b[39m\u001b[39m.\u001b[39mJ \u001b[39m=\u001b[39m np\u001b[39m.\u001b[39matleast_2d(\n\u001b[0;32m    428\u001b[0m         approx_derivative(fun_wrapped, \u001b[39mself\u001b[39m\u001b[39m.\u001b[39mx, f0\u001b[39m=\u001b[39m\u001b[39mself\u001b[39m\u001b[39m.\u001b[39mf,\n\u001b[0;32m    429\u001b[0m                           \u001b[39m*\u001b[39m\u001b[39m*\u001b[39mfinite_diff_options))\n",
      "File \u001b[1;32mc:\\Users\\thesu\\anaconda3\\lib\\site-packages\\scipy\\optimize\\_differentiable_functions.py:520\u001b[0m, in \u001b[0;36mVectorFunction._update_fun\u001b[1;34m(self)\u001b[0m\n\u001b[0;32m    518\u001b[0m \u001b[39mdef\u001b[39;00m \u001b[39m_update_fun\u001b[39m(\u001b[39mself\u001b[39m):\n\u001b[0;32m    519\u001b[0m     \u001b[39mif\u001b[39;00m \u001b[39mnot\u001b[39;00m \u001b[39mself\u001b[39m\u001b[39m.\u001b[39mf_updated:\n\u001b[1;32m--> 520\u001b[0m         \u001b[39mself\u001b[39;49m\u001b[39m.\u001b[39;49m_update_fun_impl()\n\u001b[0;32m    521\u001b[0m         \u001b[39mself\u001b[39m\u001b[39m.\u001b[39mf_updated \u001b[39m=\u001b[39m \u001b[39mTrue\u001b[39;00m\n",
      "File \u001b[1;32mc:\\Users\\thesu\\anaconda3\\lib\\site-packages\\scipy\\optimize\\_differentiable_functions.py:362\u001b[0m, in \u001b[0;36mVectorFunction.__init__.<locals>.update_fun\u001b[1;34m()\u001b[0m\n\u001b[0;32m    361\u001b[0m \u001b[39mdef\u001b[39;00m \u001b[39mupdate_fun\u001b[39m():\n\u001b[1;32m--> 362\u001b[0m     \u001b[39mself\u001b[39m\u001b[39m.\u001b[39mf \u001b[39m=\u001b[39m fun_wrapped(\u001b[39mself\u001b[39;49m\u001b[39m.\u001b[39;49mx)\n",
      "File \u001b[1;32mc:\\Users\\thesu\\anaconda3\\lib\\site-packages\\scipy\\optimize\\_differentiable_functions.py:359\u001b[0m, in \u001b[0;36mVectorFunction.__init__.<locals>.fun_wrapped\u001b[1;34m(x)\u001b[0m\n\u001b[0;32m    357\u001b[0m \u001b[39mdef\u001b[39;00m \u001b[39mfun_wrapped\u001b[39m(x):\n\u001b[0;32m    358\u001b[0m     \u001b[39mself\u001b[39m\u001b[39m.\u001b[39mnfev \u001b[39m+\u001b[39m\u001b[39m=\u001b[39m \u001b[39m1\u001b[39m\n\u001b[1;32m--> 359\u001b[0m     \u001b[39mreturn\u001b[39;00m np\u001b[39m.\u001b[39matleast_1d(fun(x))\n",
      "File \u001b[1;32mc:\\Users\\thesu\\Desktop\\Research 2022 Microgrid\\Research code repository\\Micro-Grid-ML-algo\\Machine Learning Code\\Main.py:94\u001b[0m, in \u001b[0;36mGridOptimizer.score_contraint\u001b[1;34m(self, params)\u001b[0m\n\u001b[0;32m     92\u001b[0m new_grid_gen\u001b[39m.\u001b[39mgenerate_microgrid(verbose\u001b[39m=\u001b[39m\u001b[39mFalse\u001b[39;00m, interpolate\u001b[39m=\u001b[39m\u001b[39mTrue\u001b[39;00m)\n\u001b[0;32m     93\u001b[0m new_grid_env \u001b[39m=\u001b[39m new_grid_gen\u001b[39m.\u001b[39mmicrogrids[\u001b[39m0\u001b[39m]\n\u001b[1;32m---> 94\u001b[0m \u001b[39mself\u001b[39m\u001b[39m.\u001b[39mnew_score \u001b[39m=\u001b[39m \u001b[39mself\u001b[39;49m\u001b[39m.\u001b[39;49mtest_grid(env \u001b[39m=\u001b[39;49m new_grid_env, horizon\u001b[39m=\u001b[39;49mYEAR, load_path\u001b[39m=\u001b[39;49m\u001b[39mr\u001b[39;49m\u001b[39m\"\u001b[39;49m\u001b[39mC:\u001b[39;49m\u001b[39m\\\u001b[39;49m\u001b[39mUsers\u001b[39;49m\u001b[39m\\\u001b[39;49m\u001b[39mthesu\u001b[39;49m\u001b[39m\\\u001b[39;49m\u001b[39mDesktop\u001b[39;49m\u001b[39m\\\u001b[39;49m\u001b[39mDesign\u001b[39;49m\u001b[39m\\\u001b[39;49m\u001b[39mAgents\u001b[39;49m\u001b[39m\\\u001b[39;49m\u001b[39mTrained Agent Object.pkl\u001b[39;49m\u001b[39m\"\u001b[39;49m)\n\u001b[0;32m     95\u001b[0m \u001b[39m# sys.stdout.write(f'\\rNew score: {new_score}, Score percentage: {(new_score/self.initial_score)*100}%\\n')#, Score is: {final}')\u001b[39;00m\n\u001b[0;32m     96\u001b[0m \u001b[39m# sys.stdout.flush()         \u001b[39;00m\n\u001b[0;32m     97\u001b[0m \u001b[39mreturn\u001b[39;00m \u001b[39mself\u001b[39m\u001b[39m.\u001b[39mnew_score \u001b[39m-\u001b[39m (\u001b[39m0.95\u001b[39m\u001b[39m*\u001b[39m\u001b[39mself\u001b[39m\u001b[39m.\u001b[39minitial_score)\n",
      "File \u001b[1;32mc:\\Users\\thesu\\Desktop\\Research 2022 Microgrid\\Research code repository\\Micro-Grid-ML-algo\\Machine Learning Code\\Main.py:181\u001b[0m, in \u001b[0;36mGridOptimizer.test_grid\u001b[1;34m(self, env, horizon, load_path)\u001b[0m\n\u001b[0;32m    179\u001b[0m \u001b[39m#main testing loop                                                            \u001b[39;00m\n\u001b[0;32m    180\u001b[0m \u001b[39mwhile\u001b[39;00m \u001b[39mnot\u001b[39;00m done:                                                                                         \n\u001b[1;32m--> 181\u001b[0m     action_select \u001b[39m=\u001b[39m agent\u001b[39m.\u001b[39;49mchoose_action(state)\n\u001b[0;32m    182\u001b[0m     action \u001b[39m=\u001b[39m env\u001b[39m.\u001b[39mactions_agent(action \u001b[39m=\u001b[39m action_select) \n\u001b[0;32m    183\u001b[0m     new_state,reward, done, \u001b[39m=\u001b[39m env\u001b[39m.\u001b[39mrun(action)                             \n",
      "File \u001b[1;32mc:\\Users\\thesu\\Desktop\\Research 2022 Microgrid\\Research code repository\\Micro-Grid-ML-algo\\Machine Learning Code\\DQNEnv.py:95\u001b[0m, in \u001b[0;36mDQAgent.choose_action\u001b[1;34m(self, state)\u001b[0m\n\u001b[0;32m     93\u001b[0m     action \u001b[39m=\u001b[39m np\u001b[39m.\u001b[39mrandom\u001b[39m.\u001b[39mchoice(np\u001b[39m.\u001b[39marange(\u001b[39mself\u001b[39m\u001b[39m.\u001b[39mn_actions))\n\u001b[0;32m     94\u001b[0m \u001b[39melse\u001b[39;00m:\n\u001b[1;32m---> 95\u001b[0m     state \u001b[39m=\u001b[39m torch\u001b[39m.\u001b[39;49mtensor([state], dtype \u001b[39m=\u001b[39;49m torch\u001b[39m.\u001b[39;49mfloat32)\u001b[39m.\u001b[39;49mto(\u001b[39mself\u001b[39;49m\u001b[39m.\u001b[39;49mq\u001b[39m.\u001b[39;49mdevice)        \u001b[39m#make state a tensor and add batch dimension\u001b[39;00m\n\u001b[0;32m     96\u001b[0m     q \u001b[39m=\u001b[39m \u001b[39mself\u001b[39m\u001b[39m.\u001b[39mq\u001b[39m.\u001b[39mforward(state)                                                      \u001b[39m#forward pass\u001b[39;00m\n\u001b[0;32m     97\u001b[0m     action \u001b[39m=\u001b[39m torch\u001b[39m.\u001b[39margmax(q)                                                      \u001b[39m#selection action with highest q value\u001b[39;00m\n",
      "\u001b[1;31mKeyboardInterrupt\u001b[0m: "
     ]
    }
   ],
   "source": [
    "op = go.start_minimize()\n"
   ]
  },
  {
   "cell_type": "markdown",
   "metadata": {},
   "source": []
  },
  {
   "cell_type": "code",
   "execution_count": null,
   "metadata": {},
   "outputs": [],
   "source": [
    "display(op)"
   ]
  },
  {
   "cell_type": "code",
   "execution_count": null,
   "metadata": {},
   "outputs": [],
   "source": [
    "# a = eval_expr(go.test_func().replace(\"L\", str(129999.99925468/1000)).replace(\"F\", str(470000.00479076/1000)).replace(\"W\", str(299999.99641876/1000)))\n",
    "# print(a)\n",
    "\n",
    "a = go.test_func()\n",
    "print(a)\n",
    "\n"
   ]
  }
 ],
 "metadata": {
  "kernelspec": {
   "display_name": "Python 3.9.12 ('base')",
   "language": "python",
   "name": "python3"
  },
  "language_info": {
   "codemirror_mode": {
    "name": "ipython",
    "version": 3
   },
   "file_extension": ".py",
   "mimetype": "text/x-python",
   "name": "python",
   "nbconvert_exporter": "python",
   "pygments_lexer": "ipython3",
   "version": "3.9.12"
  },
  "vscode": {
   "interpreter": {
    "hash": "dd887db2f66529d4636c400342ad015b782a82dfbd794ccac1d8c6ae30a1995a"
   }
  }
 },
 "nbformat": 4,
 "nbformat_minor": 4
}
