{
 "cells": [
  {
   "cell_type": "markdown",
   "metadata": {},
   "source": [
    "# Central RL control notebook"
   ]
  },
  {
   "cell_type": "code",
   "execution_count": 2,
   "metadata": {},
   "outputs": [],
   "source": [
    "import sys\n",
    "from pymgrid import MicrogridGenerator as mg\n",
    "import matplotlib.pyplot as plt\n",
    "import numpy as np\n",
    "from Storage import StorageSuite as st\n",
    "from pathlib import Path\n",
    "from DQNEnv import DQAgent\n",
    "import DQNNmain as dqn\n",
    "import random"
   ]
  },
  {
   "cell_type": "markdown",
   "metadata": {},
   "source": [
    "Time span constants"
   ]
  },
  {
   "cell_type": "code",
   "execution_count": null,
   "metadata": {},
   "outputs": [],
   "source": [
    "HOUR = 4 # 15 Min intervals in an hour\n",
    "DAY = 96 # Number of 15 Min intervals in day\n",
    "MONTH = 2_924 # Number of 15 Min intervals in month\n",
    "YEAR =35_088 # Number of 15 Min intervals in year (non-leap)\n",
    "ZERO = 10**-5"
   ]
  },
  {
   "cell_type": "markdown",
   "metadata": {},
   "source": [
    "### Generate Microgrids"
   ]
  },
  {
   "cell_type": "code",
   "execution_count": null,
   "metadata": {
    "scrolled": true
   },
   "outputs": [],
   "source": [
    "n_grids = 2\n",
    "grid_list = []\n",
    "\n",
    "for i in range(n_grids):\n",
    "    grid_list.append(st(r'C:\\Users\\thesu\\Desktop\\Research 2022 Microgrid\\Research code repository\\Micro-Grid-ML-algo\\data\\dummy_data_v1.csv',load=np.random.randint(1E5,6E5)))\n",
    "mg_env = mg.MicrogridGenerator(storage_suite_list=grid_list)\n",
    "mg_env.generate_microgrid(verbose= True, interpolate= True)"
   ]
  },
  {
   "cell_type": "code",
   "execution_count": null,
   "metadata": {},
   "outputs": [],
   "source": [
    "mg0 = mg_env.microgrids[0]\n",
    "mg1 = mg_env.microgrids[1]"
   ]
  }
 ],
 "metadata": {
  "kernelspec": {
   "display_name": "Python 3.9.12 ('base')",
   "language": "python",
   "name": "python3"
  },
  "language_info": {
   "codemirror_mode": {
    "name": "ipython",
    "version": 3
   },
   "file_extension": ".py",
   "mimetype": "text/x-python",
   "name": "python",
   "nbconvert_exporter": "python",
   "pygments_lexer": "ipython3",
   "version": "3.9.12"
  },
  "vscode": {
   "interpreter": {
    "hash": "dd887db2f66529d4636c400342ad015b782a82dfbd794ccac1d8c6ae30a1995a"
   }
  }
 },
 "nbformat": 4,
 "nbformat_minor": 4
}
