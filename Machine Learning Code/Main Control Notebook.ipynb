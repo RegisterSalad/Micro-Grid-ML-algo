{
 "cells": [
  {
   "cell_type": "markdown",
   "metadata": {},
   "source": [
    "# Central RL control notebook"
   ]
  },
  {
   "cell_type": "code",
   "execution_count": 1,
   "metadata": {},
   "outputs": [],
   "source": [
    "from Main import GridOptimizer"
   ]
  },
  {
   "cell_type": "markdown",
   "metadata": {},
   "source": [
    "NN is already Trained. \n",
    "Address: r\"C:\\Users\\thesu\\Desktop\\Trained Agent Object.pkl\""
   ]
  },
  {
   "cell_type": "code",
   "execution_count": 2,
   "metadata": {},
   "outputs": [],
   "source": [
    "data_path = r\"C:\\Users\\thesu\\Desktop\\Research 2022 Microgrid\\Research code repository\\Micro-Grid-ML-algo\\data\\dummy_data_v1.csv\"\n",
    "constraint = 5E5 # Value of grid in dollars\n",
    "go = GridOptimizer(data_path=data_path, cost_limit = constraint)"
   ]
  },
  {
   "cell_type": "markdown",
   "metadata": {},
   "source": [
    "Use GridOptimizer.start to run the optimization"
   ]
  },
  {
   "cell_type": "markdown",
   "metadata": {},
   "source": [
    "optimized = go.start()"
   ]
  }
 ],
 "metadata": {
  "kernelspec": {
   "display_name": "Python 3.9.12 ('base')",
   "language": "python",
   "name": "python3"
  },
  "language_info": {
   "codemirror_mode": {
    "name": "ipython",
    "version": 3
   },
   "file_extension": ".py",
   "mimetype": "text/x-python",
   "name": "python",
   "nbconvert_exporter": "python",
   "pygments_lexer": "ipython3",
   "version": "3.9.12"
  },
  "vscode": {
   "interpreter": {
    "hash": "dd887db2f66529d4636c400342ad015b782a82dfbd794ccac1d8c6ae30a1995a"
   }
  }
 },
 "nbformat": 4,
 "nbformat_minor": 4
}
