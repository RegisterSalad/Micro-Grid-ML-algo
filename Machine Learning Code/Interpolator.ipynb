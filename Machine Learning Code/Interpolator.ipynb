{
 "cells": [
  {
   "cell_type": "code",
   "execution_count": 2,
   "metadata": {},
   "outputs": [],
   "source": [
    "import numpy as np\n",
    "import pandas as pd\n",
    "import matplotlib.pyplot as plt \n",
    "import sys\n",
    "import os\n",
    "import time\n",
    "from IPython.display import display\n",
    "from pathlib import Path\n",
    "from pymgrid import MicrogridGenerator as mg\n",
    "from os.path import isfile, join\n",
    "from os import listdir\n",
    "DAY = 86400 # in seconds\n",
    "HORIZON = 24"
   ]
  },
  {
   "cell_type": "code",
   "execution_count": 8,
   "metadata": {},
   "outputs": [],
   "source": [
    "def inter(df,original_size):\n",
    "    i=1\n",
    "    row_value = [np.nan]\n",
    "    while True:\n",
    "        if df.shape[0] == DAY:\n",
    "            df = df.interpolate()\n",
    "            return df\n",
    "        elif i % 2 != 0:\n",
    "            if i > (original_size*2)-1:\n",
    "                df = df.interpolate(method='slinear')\n",
    "                return df\n",
    "            else:\n",
    "                np_arr = df.to_numpy(dtype=float)\n",
    "                np_arr = np.insert(np_arr,i, np.nan)\n",
    "                #df = Insert_row(row_number, df, row_value)\n",
    "                df = pd.DataFrame(np_arr, columns=['GH illum (lx)'],)\n",
    "        i = i+1\n"
   ]
  },
  {
   "cell_type": "code",
   "execution_count": 9,
   "metadata": {},
   "outputs": [],
   "source": [
    "def runner(directory_path: str,index: int):\n",
    "    onlyfiles = [f for f in listdir(directory_path) if isfile(join(directory_path, f))]\n",
    "    onlyfiles.remove('__init__.py')\n",
    "    if '.DS_Store'  in onlyfiles:\n",
    "        onlyfiles.remove('.DS_Store')\n",
    "    print(onlyfiles)\n",
    "    file_path = directory_path+onlyfiles[index]\n",
    "    df_values = pd.read_csv(file_path)\n",
    "    df_cut = df_values[0:HORIZON]\n",
    "    size = HORIZON\n",
    "    limit = DAY\n",
    "    while size < limit:\n",
    "        size = df_cut.shape[0]\n",
    "        df_cut = inter(df_cut,size)\n",
    "    #    print(size)\n",
    "    newpath = directory_path+'/interpolated/'+onlyfiles[index].replace('.csv','_interpolated.csv')\n",
    "    #file_path.replace('.csv','_interpolated.csv')\n",
    "    df_cut.to_csv(path_or_buf= newpath)"
   ]
  },
  {
   "cell_type": "code",
   "execution_count": 10,
   "metadata": {},
   "outputs": [
    {
     "name": "stdout",
     "output_type": "stream",
     "text": [
      "c:\\Users\\thesu\\AppData\\Local\\Programs\\Python\\Python310\\lib\\site-packages\\pymgrid_interpolated\n",
      "['co2_caiso.csv', 'co2_duke.csv']\n"
     ]
    },
    {
     "ename": "KeyboardInterrupt",
     "evalue": "",
     "output_type": "error",
     "traceback": [
      "\u001b[1;31m---------------------------------------------------------------------------\u001b[0m",
      "\u001b[1;31mKeyboardInterrupt\u001b[0m                         Traceback (most recent call last)",
      "\u001b[1;32mc:\\Users\\thesu\\Desktop\\Research 2022 Microgrid\\Simulators\\pymgrid-master\\pymgrid-master\\notebooks\\Interpolator.ipynb Cell 4'\u001b[0m in \u001b[0;36m<module>\u001b[1;34m\u001b[0m\n\u001b[0;32m     <a href='vscode-notebook-cell:/c%3A/Users/thesu/Desktop/Research%202022%20Microgrid/Simulators/pymgrid-master/pymgrid-master/notebooks/Interpolator.ipynb#ch0000003?line=13'>14</a>\u001b[0m i \u001b[39m=\u001b[39m \u001b[39m0\u001b[39m\n\u001b[0;32m     <a href='vscode-notebook-cell:/c%3A/Users/thesu/Desktop/Research%202022%20Microgrid/Simulators/pymgrid-master/pymgrid-master/notebooks/Interpolator.ipynb#ch0000003?line=17'>18</a>\u001b[0m \u001b[39mfor\u001b[39;00m i \u001b[39min\u001b[39;00m \u001b[39mrange\u001b[39m(\u001b[39m0\u001b[39m,\u001b[39m2\u001b[39m):\n\u001b[1;32m---> <a href='vscode-notebook-cell:/c%3A/Users/thesu/Desktop/Research%202022%20Microgrid/Simulators/pymgrid-master/pymgrid-master/notebooks/Interpolator.ipynb#ch0000003?line=18'>19</a>\u001b[0m     runner(directory_path\u001b[39m=\u001b[39;49mco2_path, index \u001b[39m=\u001b[39;49m i)\n",
      "\u001b[1;32mc:\\Users\\thesu\\Desktop\\Research 2022 Microgrid\\Simulators\\pymgrid-master\\pymgrid-master\\notebooks\\Interpolator.ipynb Cell 3'\u001b[0m in \u001b[0;36mrunner\u001b[1;34m(directory_path, index)\u001b[0m\n\u001b[0;32m     <a href='vscode-notebook-cell:/c%3A/Users/thesu/Desktop/Research%202022%20Microgrid/Simulators/pymgrid-master/pymgrid-master/notebooks/Interpolator.ipynb#ch0000002?line=11'>12</a>\u001b[0m \u001b[39mwhile\u001b[39;00m size \u001b[39m<\u001b[39m limit:\n\u001b[0;32m     <a href='vscode-notebook-cell:/c%3A/Users/thesu/Desktop/Research%202022%20Microgrid/Simulators/pymgrid-master/pymgrid-master/notebooks/Interpolator.ipynb#ch0000002?line=12'>13</a>\u001b[0m     size \u001b[39m=\u001b[39m df_cut\u001b[39m.\u001b[39mshape[\u001b[39m0\u001b[39m]\n\u001b[1;32m---> <a href='vscode-notebook-cell:/c%3A/Users/thesu/Desktop/Research%202022%20Microgrid/Simulators/pymgrid-master/pymgrid-master/notebooks/Interpolator.ipynb#ch0000002?line=13'>14</a>\u001b[0m     df_cut \u001b[39m=\u001b[39m inter(df_cut,size)\n\u001b[0;32m     <a href='vscode-notebook-cell:/c%3A/Users/thesu/Desktop/Research%202022%20Microgrid/Simulators/pymgrid-master/pymgrid-master/notebooks/Interpolator.ipynb#ch0000002?line=14'>15</a>\u001b[0m \u001b[39m#    print(size)\u001b[39;00m\n\u001b[0;32m     <a href='vscode-notebook-cell:/c%3A/Users/thesu/Desktop/Research%202022%20Microgrid/Simulators/pymgrid-master/pymgrid-master/notebooks/Interpolator.ipynb#ch0000002?line=15'>16</a>\u001b[0m newpath \u001b[39m=\u001b[39m directory_path\u001b[39m+\u001b[39m\u001b[39m'\u001b[39m\u001b[39m/interpolated/\u001b[39m\u001b[39m'\u001b[39m\u001b[39m+\u001b[39monlyfiles[index]\u001b[39m.\u001b[39mreplace(\u001b[39m'\u001b[39m\u001b[39m.csv\u001b[39m\u001b[39m'\u001b[39m,\u001b[39m'\u001b[39m\u001b[39m_interpolated.csv\u001b[39m\u001b[39m'\u001b[39m)\n",
      "\u001b[1;32mc:\\Users\\thesu\\Desktop\\Research 2022 Microgrid\\Simulators\\pymgrid-master\\pymgrid-master\\notebooks\\Interpolator.ipynb Cell 2'\u001b[0m in \u001b[0;36minter\u001b[1;34m(df, original_size)\u001b[0m\n\u001b[0;32m     <a href='vscode-notebook-cell:/c%3A/Users/thesu/Desktop/Research%202022%20Microgrid/Simulators/pymgrid-master/pymgrid-master/notebooks/Interpolator.ipynb#ch0000001?line=11'>12</a>\u001b[0m \u001b[39melse\u001b[39;00m:\n\u001b[0;32m     <a href='vscode-notebook-cell:/c%3A/Users/thesu/Desktop/Research%202022%20Microgrid/Simulators/pymgrid-master/pymgrid-master/notebooks/Interpolator.ipynb#ch0000001?line=12'>13</a>\u001b[0m     np_arr \u001b[39m=\u001b[39m df\u001b[39m.\u001b[39mto_numpy(dtype\u001b[39m=\u001b[39m\u001b[39mfloat\u001b[39m)\n\u001b[1;32m---> <a href='vscode-notebook-cell:/c%3A/Users/thesu/Desktop/Research%202022%20Microgrid/Simulators/pymgrid-master/pymgrid-master/notebooks/Interpolator.ipynb#ch0000001?line=13'>14</a>\u001b[0m     np_arr \u001b[39m=\u001b[39m np\u001b[39m.\u001b[39;49minsert(np_arr,i, np\u001b[39m.\u001b[39;49mnan)\n\u001b[0;32m     <a href='vscode-notebook-cell:/c%3A/Users/thesu/Desktop/Research%202022%20Microgrid/Simulators/pymgrid-master/pymgrid-master/notebooks/Interpolator.ipynb#ch0000001?line=14'>15</a>\u001b[0m     \u001b[39m#df = Insert_row(row_number, df, row_value)\u001b[39;00m\n\u001b[0;32m     <a href='vscode-notebook-cell:/c%3A/Users/thesu/Desktop/Research%202022%20Microgrid/Simulators/pymgrid-master/pymgrid-master/notebooks/Interpolator.ipynb#ch0000001?line=15'>16</a>\u001b[0m     df \u001b[39m=\u001b[39m pd\u001b[39m.\u001b[39mDataFrame(np_arr, columns\u001b[39m=\u001b[39m[\u001b[39m'\u001b[39m\u001b[39mGH illum (lx)\u001b[39m\u001b[39m'\u001b[39m],)\n",
      "File \u001b[1;32m<__array_function__ internals>:180\u001b[0m, in \u001b[0;36minsert\u001b[1;34m(*args, **kwargs)\u001b[0m\n",
      "File \u001b[1;32mc:\\Users\\thesu\\AppData\\Local\\Programs\\Python\\Python310\\lib\\site-packages\\numpy\\lib\\function_base.py:5304\u001b[0m, in \u001b[0;36minsert\u001b[1;34m(arr, obj, values, axis)\u001b[0m\n\u001b[0;32m   <a href='file:///c%3A/Users/thesu/AppData/Local/Programs/Python/Python310/lib/site-packages/numpy/lib/function_base.py?line=5301'>5302</a>\u001b[0m slobj2[axis] \u001b[39m=\u001b[39m \u001b[39mslice\u001b[39m(index, \u001b[39mNone\u001b[39;00m)\n\u001b[0;32m   <a href='file:///c%3A/Users/thesu/AppData/Local/Programs/Python/Python310/lib/site-packages/numpy/lib/function_base.py?line=5302'>5303</a>\u001b[0m new[\u001b[39mtuple\u001b[39m(slobj)] \u001b[39m=\u001b[39m arr[\u001b[39mtuple\u001b[39m(slobj2)]\n\u001b[1;32m-> <a href='file:///c%3A/Users/thesu/AppData/Local/Programs/Python/Python310/lib/site-packages/numpy/lib/function_base.py?line=5303'>5304</a>\u001b[0m \u001b[39mif\u001b[39;00m wrap:\n\u001b[0;32m   <a href='file:///c%3A/Users/thesu/AppData/Local/Programs/Python/Python310/lib/site-packages/numpy/lib/function_base.py?line=5304'>5305</a>\u001b[0m     \u001b[39mreturn\u001b[39;00m wrap(new)\n\u001b[0;32m   <a href='file:///c%3A/Users/thesu/AppData/Local/Programs/Python/Python310/lib/site-packages/numpy/lib/function_base.py?line=5305'>5306</a>\u001b[0m \u001b[39mreturn\u001b[39;00m new\n",
      "\u001b[1;31mKeyboardInterrupt\u001b[0m: "
     ]
    }
   ],
   "source": [
    "\n",
    "\n",
    "path = (mg.__file__)\n",
    "path = path.replace('\\\\MicrogridGenerator.py','')\n",
    "print(path+'_interpolated')\n",
    "\n",
    "\n",
    "#PV\n",
    "pv_path = path+'/data/pv/'\n",
    "#Load\n",
    "load_path = path+'/data/load/'\n",
    "#Wind\n",
    "wind_path = path+'/data/wind/'\n",
    "#co2\n",
    "co2_path = path+'/data/co2/'\n",
    "i = 0\n",
    "\n",
    "\n",
    "\n",
    "for i in range(0,2):\n",
    "    runner(directory_path=co2_path, index = i)\n",
    "\n"
   ]
  },
  {
   "cell_type": "code",
   "execution_count": 14,
   "metadata": {},
   "outputs": [
    {
     "name": "stdout",
     "output_type": "stream",
     "text": [
      "The size year data is 8760 data points, the size of a single day of data is 24 data points long\n"
     ]
    },
    {
     "data": {
      "image/png": "[encoded data removed]",
      "text/plain": [
       "<Figure size 432x288 with 1 Axes>"
      ]
     },
     "metadata": {
      "needs_background": "light"
     },
     "output_type": "display_data"
    },
    {
     "ename": "KeyboardInterrupt",
     "evalue": "",
     "output_type": "error",
     "traceback": [
      "\u001b[1;31m---------------------------------------------------------------------------\u001b[0m",
      "\u001b[1;31mKeyboardInterrupt\u001b[0m                         Traceback (most recent call last)",
      "\u001b[1;32mc:\\Users\\thesu\\Desktop\\Research 2022 Microgrid\\Simulators\\pymgrid-master\\pymgrid-master\\notebooks\\Interpolator.ipynb Cell 5'\u001b[0m in \u001b[0;36m<module>\u001b[1;34m\u001b[0m\n\u001b[0;32m      <a href='vscode-notebook-cell:/c%3A/Users/thesu/Desktop/Research%202022%20Microgrid/Simulators/pymgrid-master/pymgrid-master/notebooks/Interpolator.ipynb#ch0000004?line=8'>9</a>\u001b[0m \u001b[39mwhile\u001b[39;00m size \u001b[39m<\u001b[39m limit:\n\u001b[0;32m     <a href='vscode-notebook-cell:/c%3A/Users/thesu/Desktop/Research%202022%20Microgrid/Simulators/pymgrid-master/pymgrid-master/notebooks/Interpolator.ipynb#ch0000004?line=9'>10</a>\u001b[0m     size \u001b[39m=\u001b[39m hour_scale_data_day\u001b[39m.\u001b[39mshape[\u001b[39m0\u001b[39m]\n\u001b[1;32m---> <a href='vscode-notebook-cell:/c%3A/Users/thesu/Desktop/Research%202022%20Microgrid/Simulators/pymgrid-master/pymgrid-master/notebooks/Interpolator.ipynb#ch0000004?line=10'>11</a>\u001b[0m     hour_scale_data_day \u001b[39m=\u001b[39m inter(df \u001b[39m=\u001b[39;49m hour_scale_data_day, original_size \u001b[39m=\u001b[39;49m size)\n\u001b[0;32m     <a href='vscode-notebook-cell:/c%3A/Users/thesu/Desktop/Research%202022%20Microgrid/Simulators/pymgrid-master/pymgrid-master/notebooks/Interpolator.ipynb#ch0000004?line=11'>12</a>\u001b[0m plt\u001b[39m.\u001b[39mplot(hour_scale_data_day)\n\u001b[0;32m     <a href='vscode-notebook-cell:/c%3A/Users/thesu/Desktop/Research%202022%20Microgrid/Simulators/pymgrid-master/pymgrid-master/notebooks/Interpolator.ipynb#ch0000004?line=12'>13</a>\u001b[0m plt\u001b[39m.\u001b[39mlegend([\u001b[39m'\u001b[39m\u001b[39m1-second resultion load data\u001b[39m\u001b[39m'\u001b[39m])\n",
      "\u001b[1;32mc:\\Users\\thesu\\Desktop\\Research 2022 Microgrid\\Simulators\\pymgrid-master\\pymgrid-master\\notebooks\\Interpolator.ipynb Cell 2'\u001b[0m in \u001b[0;36minter\u001b[1;34m(df, original_size)\u001b[0m\n\u001b[0;32m     <a href='vscode-notebook-cell:/c%3A/Users/thesu/Desktop/Research%202022%20Microgrid/Simulators/pymgrid-master/pymgrid-master/notebooks/Interpolator.ipynb#ch0000001?line=11'>12</a>\u001b[0m \u001b[39melse\u001b[39;00m:\n\u001b[0;32m     <a href='vscode-notebook-cell:/c%3A/Users/thesu/Desktop/Research%202022%20Microgrid/Simulators/pymgrid-master/pymgrid-master/notebooks/Interpolator.ipynb#ch0000001?line=12'>13</a>\u001b[0m     np_arr \u001b[39m=\u001b[39m df\u001b[39m.\u001b[39mto_numpy(dtype\u001b[39m=\u001b[39m\u001b[39mfloat\u001b[39m)\n\u001b[1;32m---> <a href='vscode-notebook-cell:/c%3A/Users/thesu/Desktop/Research%202022%20Microgrid/Simulators/pymgrid-master/pymgrid-master/notebooks/Interpolator.ipynb#ch0000001?line=13'>14</a>\u001b[0m     np_arr \u001b[39m=\u001b[39m np\u001b[39m.\u001b[39;49minsert(np_arr,i, np\u001b[39m.\u001b[39;49mnan)\n\u001b[0;32m     <a href='vscode-notebook-cell:/c%3A/Users/thesu/Desktop/Research%202022%20Microgrid/Simulators/pymgrid-master/pymgrid-master/notebooks/Interpolator.ipynb#ch0000001?line=14'>15</a>\u001b[0m     \u001b[39m#df = Insert_row(row_number, df, row_value)\u001b[39;00m\n\u001b[0;32m     <a href='vscode-notebook-cell:/c%3A/Users/thesu/Desktop/Research%202022%20Microgrid/Simulators/pymgrid-master/pymgrid-master/notebooks/Interpolator.ipynb#ch0000001?line=15'>16</a>\u001b[0m     df \u001b[39m=\u001b[39m pd\u001b[39m.\u001b[39mDataFrame(np_arr, columns\u001b[39m=\u001b[39m[\u001b[39m'\u001b[39m\u001b[39mGH illum (lx)\u001b[39m\u001b[39m'\u001b[39m],)\n",
      "File \u001b[1;32m<__array_function__ internals>:180\u001b[0m, in \u001b[0;36minsert\u001b[1;34m(*args, **kwargs)\u001b[0m\n",
      "File \u001b[1;32mc:\\Users\\thesu\\AppData\\Local\\Programs\\Python\\Python310\\lib\\site-packages\\numpy\\lib\\function_base.py:5298\u001b[0m, in \u001b[0;36minsert\u001b[1;34m(arr, obj, values, axis)\u001b[0m\n\u001b[0;32m   <a href='file:///c%3A/Users/thesu/AppData/Local/Programs/Python/Python310/lib/site-packages/numpy/lib/function_base.py?line=5295'>5296</a>\u001b[0m slobj[axis] \u001b[39m=\u001b[39m \u001b[39mslice\u001b[39m(\u001b[39mNone\u001b[39;00m, index)\n\u001b[0;32m   <a href='file:///c%3A/Users/thesu/AppData/Local/Programs/Python/Python310/lib/site-packages/numpy/lib/function_base.py?line=5296'>5297</a>\u001b[0m new[\u001b[39mtuple\u001b[39m(slobj)] \u001b[39m=\u001b[39m arr[\u001b[39mtuple\u001b[39m(slobj)]\n\u001b[1;32m-> <a href='file:///c%3A/Users/thesu/AppData/Local/Programs/Python/Python310/lib/site-packages/numpy/lib/function_base.py?line=5297'>5298</a>\u001b[0m slobj[axis] \u001b[39m=\u001b[39m \u001b[39mslice\u001b[39;49m(index, index\u001b[39m+\u001b[39;49mnumnew)\n\u001b[0;32m   <a href='file:///c%3A/Users/thesu/AppData/Local/Programs/Python/Python310/lib/site-packages/numpy/lib/function_base.py?line=5298'>5299</a>\u001b[0m new[\u001b[39mtuple\u001b[39m(slobj)] \u001b[39m=\u001b[39m values\n\u001b[0;32m   <a href='file:///c%3A/Users/thesu/AppData/Local/Programs/Python/Python310/lib/site-packages/numpy/lib/function_base.py?line=5299'>5300</a>\u001b[0m slobj[axis] \u001b[39m=\u001b[39m \u001b[39mslice\u001b[39m(index\u001b[39m+\u001b[39mnumnew, \u001b[39mNone\u001b[39;00m)\n",
      "\u001b[1;31mKeyboardInterrupt\u001b[0m: "
     ]
    }
   ],
   "source": [
    "hour_scale_data_year = pd.read_csv(r\"C:\\Users\\thesu\\AppData\\Local\\Programs\\Python\\Python310\\Lib\\site-packages\\pymgrid\\data\\load\\RefBldgFullServiceRestaurantNew2004_v1.3_7.1_6A_USA_MN_MINNEAPOLIS.csv\")\n",
    "hour_scale_data_day = hour_scale_data_year[0:24]\n",
    "print(f'The size year data is {hour_scale_data_year.shape[0]} data points, the size of a single day of data is {hour_scale_data_day.shape[0]} data points long')\n",
    "size = hour_scale_data_day.shape[0]\n",
    "limit = DAY # 86400 seconds in 24 hours\n",
    "sx = np.linspace(0,hour_scale_data_day.shape[0],hour_scale_data_day.shape[0])\n",
    "plt.hist(hour_scale_data_day)\n",
    "plt.legend(['1-hour resultion load data'])\n",
    "plt.show()\n",
    "while size < limit:\n",
    "    size = hour_scale_data_day.shape[0]\n",
    "    hour_scale_data_day = inter(df = hour_scale_data_day, original_size = size)\n",
    "plt.plot(hour_scale_data_day)\n",
    "plt.legend(['1-second resultion load data'])\n",
    "plt.show()\n",
    "\n",
    "\n"
   ]
  }
 ],
 "metadata": {
  "interpreter": {
   "hash": "c2f872cd06935ef2a1767f5cf856450cce9955d85323cf4abe0d65df31f84404"
  },
  "kernelspec": {
   "display_name": "Python 3.10.2 64-bit",
   "language": "python",
   "name": "python3"
  },
  "language_info": {
   "codemirror_mode": {
    "name": "ipython",
    "version": 3
   },
   "file_extension": ".py",
   "mimetype": "text/x-python",
   "name": "python",
   "nbconvert_exporter": "python",
   "pygments_lexer": "ipython3",
   "version": "3.10.2"
  },
  "orig_nbformat": 4
 },
 "nbformat": 4,
 "nbformat_minor": 2
}
