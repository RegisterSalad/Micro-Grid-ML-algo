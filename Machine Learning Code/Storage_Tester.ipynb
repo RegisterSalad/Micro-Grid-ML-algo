{
 "cells": [
  {
   "cell_type": "markdown",
   "metadata": {},
   "source": [
    "# Storage Class Testing Notebook"
   ]
  },
  {
   "cell_type": "code",
   "execution_count": 1,
   "metadata": {},
   "outputs": [],
   "source": [
    "from Storage import StorageSuite\n",
    "import numpy as np\n",
    "import matplotlib.pyplot as plt\n",
    "import pymgrid as pgd\n",
    "import pandas as pd\n",
    "from IPython.display import display, clear_output\n"
   ]
  },
  {
   "cell_type": "code",
   "execution_count": 2,
   "metadata": {},
   "outputs": [
    {
     "name": "stdout",
     "output_type": "stream",
     "text": [
      "55.56\n"
     ]
    }
   ],
   "source": [
    "st = round(55.556,2)\n",
    "print(st)"
   ]
  },
  {
   "cell_type": "markdown",
   "metadata": {},
   "source": [
    "Create Environment: Use StorageSuite"
   ]
  },
  {
   "cell_type": "code",
   "execution_count": 3,
   "metadata": {},
   "outputs": [],
   "source": [
    "# env_list = []\n",
    "# for i in range(2):\n",
    "#     env_list.append(StorageSuite(r'data\\energy_storage_devices_v6.csv',load=np.random.randint(1E5,6E5)))\n",
    "\n",
    "# if str(type(env_list[0])) != \"<class 'Storage.StorageSuite'>\":\n",
    "#             raise ValueError(f\"Please provide Storage class instances, 1 per mircogrid requested. Provided a {str(type(env_list[0]))}\")\n",
    "\n",
    "# env_list[1].load"
   ]
  },
  {
   "cell_type": "code",
   "execution_count": 4,
   "metadata": {},
   "outputs": [
    {
     "name": "stdout",
     "output_type": "stream",
     "text": [
      "{'li-ion': <Storage.Storage object at 0x00000231B85F58A0>, 'flywheel': <Storage.Storage object at 0x00000231B85F5930>, 'flow': <Storage.Storage object at 0x00000231B85F5F00>}\n"
     ]
    }
   ],
   "source": [
    "env = StorageSuite(r'C:\\Users\\thesu\\Desktop\\Research 2022 Microgrid\\Research code repository\\Micro-Grid-ML-algo\\data\\energy_storage_devices_v6.csv',load=np.random.randint(1E5,6E5))\n",
    "li,flow,fly = env.unpack()\n",
    "\n"
   ]
  },
  {
   "cell_type": "code",
   "execution_count": 5,
   "metadata": {},
   "outputs": [
    {
     "name": "stdout",
     "output_type": "stream",
     "text": [
      "<class 'float'>\n",
      "-6.936790516050278e-06\n",
      "0.05\n"
     ]
    }
   ],
   "source": [
    "li.self_discharge()"
   ]
  },
  {
   "cell_type": "markdown",
   "metadata": {},
   "source": [
    "Fetching data from storage suite:"
   ]
  },
  {
   "cell_type": "code",
   "execution_count": 6,
   "metadata": {},
   "outputs": [
    {
     "name": "stdout",
     "output_type": "stream",
     "text": [
      "67350887.5\n"
     ]
    },
    {
     "data": {
      "text/plain": [
       "(1500, 1578.9473684210527)"
      ]
     },
     "execution_count": 6,
     "metadata": {},
     "output_type": "execute_result"
    }
   ],
   "source": [
    "mg_data = env.get_properties()\n",
    "mg_stats = env.get_status_variables()\n",
    "for key in mg_data:\n",
    "    if key in mg_stats:\n",
    "        mg_data[key].update(mg_stats[key])\n",
    "print(mg_data['li-ion']['capital_cost'])\n",
    "# env.storage_suite['li-ion'].charge(energy_used =1)\n",
    "energy_requested = 1500\n",
    "env.storage_suite['li-ion'].discharge(energy_requested = energy_requested)\n",
    "\n",
    "\n"
   ]
  },
  {
   "cell_type": "code",
   "execution_count": 7,
   "metadata": {},
   "outputs": [
    {
     "name": "stdout",
     "output_type": "stream",
     "text": [
      "102038.52139926764\n",
      "0\n"
     ]
    }
   ],
   "source": [
    "print(env.storage_suite['li-ion'].soc_cap)\n",
    "print(env.storage_suite['li-ion'].min_energy)\n"
   ]
  },
  {
   "cell_type": "code",
   "execution_count": null,
   "metadata": {},
   "outputs": [],
   "source": []
  },
  {
   "cell_type": "code",
   "execution_count": 8,
   "metadata": {},
   "outputs": [
    {
     "name": "stdout",
     "output_type": "stream",
     "text": [
      "15586907537567.12\n"
     ]
    }
   ],
   "source": [
    "mg_cost = env.get_capital_cost()\n",
    "print(mg_cost)"
   ]
  },
  {
   "cell_type": "code",
   "execution_count": 9,
   "metadata": {},
   "outputs": [],
   "source": [
    "def _change_storage_charge(energy_sent, energy_requested, device: str) -> float:\n",
    "    \"\"\" This function checks that the constraints of the battery are respected.\"\"\"\n",
    "\n",
    "    if energy_sent < 0:\n",
    "        energy_sent = 0\n",
    "\n",
    "    if energy_requested < 0:\n",
    "        energy_requested = 0\n",
    "    \n",
    "    if energy_requested > 0 and energy_sent > 0: # Error Raising \n",
    "        raise ValueError(\"Cannot charge and discharge in the same timestep. Check your actions for conflicts\")\n",
    "\n",
    "    if energy_sent > 0:\n",
    "        energy_sent, energy_stored = env.charge(stor_type = device, energy_used = energy_sent)\n",
    "        energy_pulled, energy_requested = (0,0)\n",
    "    if energy_requested > 0:\n",
    "        energy_requested, energy_pulled = env.discharge(stor_type = device, energy_requested = energy_requested)\n",
    "        energy_stored, energy_sent = (0,0)\n",
    "\n",
    "    return  energy_stored, energy_pulled, energy_sent, energy_requested\n"
   ]
  },
  {
   "cell_type": "code",
   "execution_count": 10,
   "metadata": {},
   "outputs": [
    {
     "ename": "TypeError",
     "evalue": "cannot unpack non-iterable int object",
     "output_type": "error",
     "traceback": [
      "\u001b[1;31m---------------------------------------------------------------------------\u001b[0m",
      "\u001b[1;31mTypeError\u001b[0m                                 Traceback (most recent call last)",
      "\u001b[1;32mc:\\Users\\thesu\\Desktop\\Research 2022 Microgrid\\Research code repository\\Micro-Grid-ML-algo\\Machine Learning Code\\Storage_Tester.ipynb Cell 14'\u001b[0m in \u001b[0;36m<module>\u001b[1;34m\u001b[0m\n\u001b[1;32m----> <a href='vscode-notebook-cell:/c%3A/Users/thesu/Desktop/Research%202022%20Microgrid/Research%20code%20repository/Micro-Grid-ML-algo/Machine%20Learning%20Code/Storage_Tester.ipynb#ch0000013?line=0'>1</a>\u001b[0m flow_charge, flow_discharge, flow_used, flow_requested \u001b[39m=\u001b[39m _change_storage_charge(energy_sent\u001b[39m=\u001b[39;49m\u001b[39m0\u001b[39;49m, energy_requested\u001b[39m=\u001b[39;49m \u001b[39m1500\u001b[39;49m, device \u001b[39m=\u001b[39;49m \u001b[39m'\u001b[39;49m\u001b[39mflow\u001b[39;49m\u001b[39m'\u001b[39;49m, )\n\u001b[0;32m      <a href='vscode-notebook-cell:/c%3A/Users/thesu/Desktop/Research%202022%20Microgrid/Research%20code%20repository/Micro-Grid-ML-algo/Machine%20Learning%20Code/Storage_Tester.ipynb#ch0000013?line=1'>2</a>\u001b[0m \u001b[39mprint\u001b[39m(flow_used)\n\u001b[0;32m      <a href='vscode-notebook-cell:/c%3A/Users/thesu/Desktop/Research%202022%20Microgrid/Research%20code%20repository/Micro-Grid-ML-algo/Machine%20Learning%20Code/Storage_Tester.ipynb#ch0000013?line=2'>3</a>\u001b[0m \u001b[39mprint\u001b[39m(flow_requested)\n",
      "\u001b[1;32mc:\\Users\\thesu\\Desktop\\Research 2022 Microgrid\\Research code repository\\Micro-Grid-ML-algo\\Machine Learning Code\\Storage_Tester.ipynb Cell 13'\u001b[0m in \u001b[0;36m_change_storage_charge\u001b[1;34m(energy_sent, energy_requested, device)\u001b[0m\n\u001b[0;32m     <a href='vscode-notebook-cell:/c%3A/Users/thesu/Desktop/Research%202022%20Microgrid/Research%20code%20repository/Micro-Grid-ML-algo/Machine%20Learning%20Code/Storage_Tester.ipynb#ch0000012?line=14'>15</a>\u001b[0m     energy_pulled, energy_requested \u001b[39m=\u001b[39m (\u001b[39m0\u001b[39m,\u001b[39m0\u001b[39m)\n\u001b[0;32m     <a href='vscode-notebook-cell:/c%3A/Users/thesu/Desktop/Research%202022%20Microgrid/Research%20code%20repository/Micro-Grid-ML-algo/Machine%20Learning%20Code/Storage_Tester.ipynb#ch0000012?line=15'>16</a>\u001b[0m \u001b[39mif\u001b[39;00m energy_requested \u001b[39m>\u001b[39m \u001b[39m0\u001b[39m:\n\u001b[1;32m---> <a href='vscode-notebook-cell:/c%3A/Users/thesu/Desktop/Research%202022%20Microgrid/Research%20code%20repository/Micro-Grid-ML-algo/Machine%20Learning%20Code/Storage_Tester.ipynb#ch0000012?line=16'>17</a>\u001b[0m     energy_requested, energy_pulled \u001b[39m=\u001b[39m env\u001b[39m.\u001b[39mdischarge(stor_type \u001b[39m=\u001b[39m device, energy_requested \u001b[39m=\u001b[39m energy_requested)\n\u001b[0;32m     <a href='vscode-notebook-cell:/c%3A/Users/thesu/Desktop/Research%202022%20Microgrid/Research%20code%20repository/Micro-Grid-ML-algo/Machine%20Learning%20Code/Storage_Tester.ipynb#ch0000012?line=17'>18</a>\u001b[0m     energy_stored, energy_sent \u001b[39m=\u001b[39m (\u001b[39m0\u001b[39m,\u001b[39m0\u001b[39m)\n\u001b[0;32m     <a href='vscode-notebook-cell:/c%3A/Users/thesu/Desktop/Research%202022%20Microgrid/Research%20code%20repository/Micro-Grid-ML-algo/Machine%20Learning%20Code/Storage_Tester.ipynb#ch0000012?line=19'>20</a>\u001b[0m \u001b[39mreturn\u001b[39;00m  energy_stored, energy_pulled, energy_sent, energy_requested\n",
      "\u001b[1;31mTypeError\u001b[0m: cannot unpack non-iterable int object"
     ]
    }
   ],
   "source": [
    "flow_charge, flow_discharge, flow_used, flow_requested = _change_storage_charge(energy_sent=0, energy_requested= 1500, device = 'flow', )\n",
    "print(flow_used)\n",
    "print(flow_requested)"
   ]
  }
 ],
 "metadata": {
  "kernelspec": {
   "display_name": "Python 3.10.2 64-bit",
   "language": "python",
   "name": "python3"
  },
  "language_info": {
   "codemirror_mode": {
    "name": "ipython",
    "version": 3
   },
   "file_extension": ".py",
   "mimetype": "text/x-python",
   "name": "python",
   "nbconvert_exporter": "python",
   "pygments_lexer": "ipython3",
   "version": "3.10.2"
  },
  "orig_nbformat": 4,
  "vscode": {
   "interpreter": {
    "hash": "c2f872cd06935ef2a1767f5cf856450cce9955d85323cf4abe0d65df31f84404"
   }
  }
 },
 "nbformat": 4,
 "nbformat_minor": 2
}
