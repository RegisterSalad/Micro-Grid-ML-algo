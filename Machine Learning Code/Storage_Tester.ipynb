{
 "cells": [
  {
   "cell_type": "markdown",
   "metadata": {},
   "source": [
    "# Storage Class Testing Notebook"
   ]
  },
  {
   "cell_type": "code",
   "execution_count": 11,
   "metadata": {},
   "outputs": [],
   "source": [
    "from Storage import StorageSuite\n",
    "import numpy as np\n",
    "import matplotlib.pyplot as plt\n",
    "import sys\n",
    "import pymgrid as pgd\n",
    "import pandas as pd\n",
    "from IPython.display import display, clear_output\n",
    "import csv\n",
    "import ast\n",
    "import operator as op\n",
    "from math import e\n",
    "import gc\n",
    "from DQNEnv import DQAgent # Neural Net implimentation module\n",
    "import pickle as pkl # Neural Network storage and loading\n",
    "from pymgrid.MicrogridGenerator import MicrogridGenerator\n",
    "\n",
    "HOUR = 4 # 15 Min intervals in an hour\n",
    "DAY = 96 # Number of 15 Min intervals in day\n",
    "MONTH = 2_924 # Number of 15 Min intervals in month\n",
    "YEAR =35_088 # Number of 15 Min intervals in year (non-leap)\n",
    "ZERO = 10**-5 # Low value for zeroes\n",
    "\n",
    "############\n",
    "''' the following is a string -> evaluation parser '''\n",
    "operators = {ast.Add: op.add, ast.Sub: op.sub, ast.Mult: op.mul,\n",
    "             ast.Div: op.truediv, ast.Pow: op.pow, ast.BitXor: op.xor,\n",
    "             ast.USub: op.neg}\n",
    "\n",
    "def eval_expr(expr) -> float :\n",
    "    if expr != '':\n",
    "        return eval_(ast.parse(expr, mode='eval').body)\n",
    "    else:\n",
    "        return None\n",
    "\n",
    "def eval_(node) -> float:\n",
    "    if isinstance(node, ast.Num): # <number>\n",
    "        return node.n\n",
    "    elif isinstance(node, ast.BinOp): # <left> <operator> <right>\n",
    "        return operators[type(node.op)](float(eval_(node.left)), float(eval_(node.right)))\n",
    "    elif isinstance(node, ast.UnaryOp): # <operator> <operand> e.g., -1\n",
    "        return operators[type(node.op)](eval_(node.operand))\n",
    "    else:\n",
    "        raise TypeError(node)\n",
    "############\n"
   ]
  },
  {
   "cell_type": "markdown",
   "metadata": {},
   "source": [
    "Create Environment: Use StorageSuite"
   ]
  },
  {
   "cell_type": "code",
   "execution_count": 2,
   "metadata": {},
   "outputs": [
    {
     "name": "stdout",
     "output_type": "stream",
     "text": [
      "Li: 200000.0, FLow: 200000.0, Fly: 200000.0\n"
     ]
    }
   ],
   "source": [
    "env = StorageSuite(r'C:\\Users\\thesu\\Desktop\\Research 2022 Microgrid\\Research code repository\\Micro-Grid-ML-algo\\data\\energy_storage_devices_v6.csv', load = 6E5) # load=np.random.randint(1E5,6E5))\n",
    "li,flow,fly = env.unpack()\n",
    "print(f'Li: {li.cap}, FLow: {flow.cap}, Fly: {fly.cap}')"
   ]
  },
  {
   "cell_type": "code",
   "execution_count": 3,
   "metadata": {},
   "outputs": [],
   "source": [
    "# def cap_function(params: list):\n",
    "#         cap_cost_formula = env.get_total_capital_cost_formula().replace(\"L\", str(params[0]/1000)).replace(\"F\", str(params[1]/1000)).replace(\"W\", str(params[2]/1000))\n",
    "#         return cap_cost_formula \n",
    "# params = [li.cap,flow.cap,fly.cap]\n",
    "# print(cap_function(params=params))\n",
    "# print(env.get_capital_cost())"
   ]
  },
  {
   "cell_type": "code",
   "execution_count": 4,
   "metadata": {},
   "outputs": [
    {
     "name": "stdout",
     "output_type": "stream",
     "text": [
      "Li: 200000.0, FLow: 200000.0, Fly: 200000.0\n"
     ]
    }
   ],
   "source": [
    "env.modify_ss([2E5,2E5,2E5])\n",
    "li,flow,fly = env.unpack()\n",
    "print(f'Li: {li.cap}, FLow: {flow.cap}, Fly: {fly.cap}')\n"
   ]
  },
  {
   "cell_type": "code",
   "execution_count": 8,
   "metadata": {},
   "outputs": [],
   "source": [
    "def test_grid(env: object, horizon: int, load_path: str) -> float:\n",
    "    ''' Manages the grid based on a trained neural net model '''\n",
    "    env.set_horizon(horizon = horizon) # Sets the Horizon\n",
    "\n",
    "    with open(load_path, 'rb') as f:  # Loads agent from desired path\n",
    "        agent = pkl.load(f)\n",
    "\n",
    "    state = env.reset()                                                       \n",
    "    score = 0                                                                   \n",
    "    done = 0\n",
    "\n",
    "    #main testing loop                                                            \n",
    "    while not done:                                                                                         \n",
    "        action_select = agent.choose_action(state)\n",
    "        action = env.actions_agent(action = action_select) \n",
    "        new_state,reward, done, = env.run(action)                             \n",
    "        score+=reward                                                                                                                   \n",
    "        state = new_state\n",
    "        value_print=\"\\rProgress \" + str(round(((env._tracking_timestep)*1000)/(env.horizon*10),1)) +\" %\"\n",
    "        sys.stdout.write(value_print)\n",
    "        sys.stdout.flush()                                                       \n",
    "    env.reset()                                                                    \n",
    "    return score"
   ]
  },
  {
   "cell_type": "code",
   "execution_count": 9,
   "metadata": {},
   "outputs": [
    {
     "name": "stdout",
     "output_type": "stream",
     "text": [
      "Li: 200000.0, FLow: 200000.0, Fly: 200000.0\n"
     ]
    }
   ],
   "source": [
    "mg1 = MicrogridGenerator(storage_suite_list=[env])\n",
    "mg1.generate_microgrid(verbose=False, interpolate=True)\n",
    "mg_env = mg1.microgrids[0]\n",
    "li,flow,fly = env.unpack()\n",
    "print(f'Li: {li.cap}, FLow: {flow.cap}, Fly: {fly.cap}')"
   ]
  },
  {
   "cell_type": "code",
   "execution_count": 12,
   "metadata": {},
   "outputs": [
    {
     "name": "stdout",
     "output_type": "stream",
     "text": [
      "Progress 99.9 %"
     ]
    }
   ],
   "source": [
    "score1 = test_grid(env = mg_env, horizon=YEAR, load_path=r\"C:\\Users\\thesu\\Desktop\\Design\\Agents\\Trained Agent Object.pkl\")"
   ]
  },
  {
   "cell_type": "code",
   "execution_count": 13,
   "metadata": {},
   "outputs": [
    {
     "name": "stdout",
     "output_type": "stream",
     "text": [
      "35538789.802956\n"
     ]
    }
   ],
   "source": [
    "print(score1)"
   ]
  },
  {
   "cell_type": "code",
   "execution_count": 29,
   "metadata": {},
   "outputs": [
    {
     "name": "stdout",
     "output_type": "stream",
     "text": [
      "Li: 10000.0, FLow: 10000.0, Fly: 10000.0\n"
     ]
    }
   ],
   "source": [
    "env.modify_ss([1E4,1E4,1E4])\n",
    "mg1 = MicrogridGenerator(storage_suite_list=[env])\n",
    "mg1.generate_microgrid(verbose=False, interpolate=True)\n",
    "mg_env = mg1.microgrids[0]\n",
    "li,flow,fly = env.unpack()\n",
    "print(f'Li: {li.cap}, FLow: {flow.cap}, Fly: {fly.cap}')"
   ]
  },
  {
   "cell_type": "code",
   "execution_count": 30,
   "metadata": {},
   "outputs": [
    {
     "name": "stdout",
     "output_type": "stream",
     "text": [
      "Progress 99.9 %"
     ]
    }
   ],
   "source": [
    "score3 = test_grid(env = mg_env, horizon=YEAR, load_path=r\"C:\\Users\\thesu\\Desktop\\Design\\Agents\\Trained Agent Object.pkl\")"
   ]
  },
  {
   "cell_type": "code",
   "execution_count": 31,
   "metadata": {},
   "outputs": [
    {
     "name": "stdout",
     "output_type": "stream",
     "text": [
      "13825.71586497128\n"
     ]
    }
   ],
   "source": [
    "print(score3-score1)"
   ]
  }
 ],
 "metadata": {
  "kernelspec": {
   "display_name": "Python 3.9.12 ('base')",
   "language": "python",
   "name": "python3"
  },
  "language_info": {
   "codemirror_mode": {
    "name": "ipython",
    "version": 3
   },
   "file_extension": ".py",
   "mimetype": "text/x-python",
   "name": "python",
   "nbconvert_exporter": "python",
   "pygments_lexer": "ipython3",
   "version": "3.9.12"
  },
  "orig_nbformat": 4,
  "vscode": {
   "interpreter": {
    "hash": "dd887db2f66529d4636c400342ad015b782a82dfbd794ccac1d8c6ae30a1995a"
   }
  }
 },
 "nbformat": 4,
 "nbformat_minor": 2
}
