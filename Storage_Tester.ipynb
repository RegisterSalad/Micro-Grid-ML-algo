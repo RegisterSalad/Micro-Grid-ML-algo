{
 "cells": [
  {
   "cell_type": "markdown",
   "metadata": {},
   "source": [
    "# Storage Class Testing Notebook"
   ]
  },
  {
   "cell_type": "code",
   "execution_count": 1,
   "metadata": {},
   "outputs": [],
   "source": [
    "from Storage import StorageSuite\n",
    "import numpy as np\n",
    "import matplotlib.pyplot as plt\n",
    "import pymgrid as pgd\n",
    "import pandas as pd\n",
    "from IPython.display import display, clear_output\n"
   ]
  },
  {
   "cell_type": "markdown",
   "metadata": {},
   "source": [
    "Create Environment: Use StorageSuite"
   ]
  },
  {
   "cell_type": "code",
   "execution_count": 2,
   "metadata": {},
   "outputs": [
    {
     "name": "stdout",
     "output_type": "stream",
     "text": [
      "25000.0\n"
     ]
    },
    {
     "ename": "TypeError",
     "evalue": "unsupported operand type(s) for *: 'float' and 'NoneType'",
     "output_type": "error",
     "traceback": [
      "\u001b[1;31m---------------------------------------------------------------------------\u001b[0m",
      "\u001b[1;31mTypeError\u001b[0m                                 Traceback (most recent call last)",
      "\u001b[1;32mc:\\Users\\thesu\\Desktop\\Research 2022 Microgrid\\Research code repository\\Micro-Grid-ML-algo\\Storage_Tester.ipynb Cell 4'\u001b[0m in \u001b[0;36m<module>\u001b[1;34m\u001b[0m\n\u001b[1;32m----> <a href='vscode-notebook-cell:/c%3A/Users/thesu/Desktop/Research%202022%20Microgrid/Research%20code%20repository/Micro-Grid-ML-algo/Storage_Tester.ipynb#ch0000003?line=0'>1</a>\u001b[0m env \u001b[39m=\u001b[39m StorageSuite(\u001b[39mr\u001b[39;49m\u001b[39m'\u001b[39;49m\u001b[39mdata\u001b[39;49m\u001b[39m\\\u001b[39;49m\u001b[39menergy_storage_devices_v5.csv\u001b[39;49m\u001b[39m'\u001b[39;49m,load\u001b[39m=\u001b[39;49m\u001b[39m1E5\u001b[39;49m)\n",
      "File \u001b[1;32mc:\\Users\\thesu\\Desktop\\Research 2022 Microgrid\\Research code repository\\Micro-Grid-ML-algo\\Storage.py:75\u001b[0m, in \u001b[0;36mStorageSuite.__init__\u001b[1;34m(self, filename, load)\u001b[0m\n\u001b[0;32m     73\u001b[0m \u001b[39mprint\u001b[39m(baseline_capacity_dict[\u001b[39m'\u001b[39m\u001b[39mli-ion\u001b[39m\u001b[39m'\u001b[39m])\n\u001b[0;32m     74\u001b[0m \u001b[39mfor\u001b[39;00m idx,device \u001b[39min\u001b[39;00m \u001b[39menumerate\u001b[39m(\u001b[39mself\u001b[39m\u001b[39m.\u001b[39mdevice_data):\n\u001b[1;32m---> 75\u001b[0m     \u001b[39mself\u001b[39m\u001b[39m.\u001b[39mstorage_suite[device] \u001b[39m=\u001b[39m Storage(data\u001b[39m=\u001b[39;49m\u001b[39mself\u001b[39;49m\u001b[39m.\u001b[39;49mdevice_data[device], \u001b[39mtype\u001b[39;49m\u001b[39m=\u001b[39;49mdevice, cap \u001b[39m=\u001b[39;49m \u001b[39mfloat\u001b[39;49m(baseline_capacity_dict[device]))\n\u001b[0;32m     76\u001b[0m \u001b[39mprint\u001b[39m(\u001b[39mself\u001b[39m\u001b[39m.\u001b[39mstorage_suite)\n",
      "File \u001b[1;32mc:\\Users\\thesu\\Desktop\\Research 2022 Microgrid\\Research code repository\\Micro-Grid-ML-algo\\Storage.py:188\u001b[0m, in \u001b[0;36mStorage.__init__\u001b[1;34m(self, data, type, cap, power)\u001b[0m\n\u001b[0;32m    186\u001b[0m \u001b[39mself\u001b[39m\u001b[39m.\u001b[39mpower \u001b[39m=\u001b[39m power \u001b[39m# power\u001b[39;00m\n\u001b[0;32m    187\u001b[0m \u001b[39mif\u001b[39;00m \u001b[39mself\u001b[39m\u001b[39m.\u001b[39mpower \u001b[39m==\u001b[39m \u001b[39m0\u001b[39m:\n\u001b[1;32m--> 188\u001b[0m     \u001b[39mself\u001b[39m\u001b[39m.\u001b[39mpower \u001b[39m=\u001b[39m \u001b[39mself\u001b[39;49m\u001b[39m.\u001b[39;49mcap \u001b[39m*\u001b[39;49m eval_expr(\u001b[39mstr\u001b[39;49m(data[\u001b[39m'\u001b[39;49m\u001b[39mmax_cont_discharge\u001b[39;49m\u001b[39m'\u001b[39;49m]\u001b[39m.\u001b[39;49mreplace(\u001b[39m\"\u001b[39;49m\u001b[39mx\u001b[39;49m\u001b[39m\"\u001b[39;49m, \u001b[39mstr\u001b[39;49m(\u001b[39mself\u001b[39;49m\u001b[39m.\u001b[39;49mcap)))) \u001b[39m# uses default power to capacity ratio for given type\u001b[39;00m\n\u001b[0;32m    190\u001b[0m \u001b[39m\"\"\"\u001b[39;00m\n\u001b[0;32m    191\u001b[0m \u001b[39mself.START_WINDOW = data['start_window'] # start time that device can be used (V2G), in seconds of the day out of 86,400\u001b[39;00m\n\u001b[0;32m    192\u001b[0m \u001b[39mself.END_WINDOW = data['end'] # end time that device can be used (V2G), in seconds of the day out of 86,400\u001b[39;00m\n\u001b[0;32m    193\u001b[0m \u001b[39m\"\"\"\u001b[39;00m\n\u001b[0;32m    195\u001b[0m \u001b[39mself\u001b[39m\u001b[39m.\u001b[39mMAX_SOC \u001b[39m=\u001b[39m data[\u001b[39m'\u001b[39m\u001b[39mmax_charge\u001b[39m\u001b[39m'\u001b[39m] \u001b[39m# maximum charge as a proportion of capacity\u001b[39;00m\n",
      "\u001b[1;31mTypeError\u001b[0m: unsupported operand type(s) for *: 'float' and 'NoneType'"
     ]
    }
   ],
   "source": [
    "env = StorageSuite(r'data\\energy_storage_devices_v5.csv',load=1E5)\n"
   ]
  },
  {
   "cell_type": "markdown",
   "metadata": {},
   "source": [
    "Fetching data from storage suite:"
   ]
  },
  {
   "cell_type": "code",
   "execution_count": null,
   "metadata": {},
   "outputs": [],
   "source": [
    "mg_data = env.get_properties()\n",
    "print(mg_data['flow'])"
   ]
  }
 ],
 "metadata": {
  "kernelspec": {
   "display_name": "Python 3.10.2 64-bit",
   "language": "python",
   "name": "python3"
  },
  "language_info": {
   "codemirror_mode": {
    "name": "ipython",
    "version": 3
   },
   "file_extension": ".py",
   "mimetype": "text/x-python",
   "name": "python",
   "nbconvert_exporter": "python",
   "pygments_lexer": "ipython3",
   "version": "3.10.2"
  },
  "orig_nbformat": 4,
  "vscode": {
   "interpreter": {
    "hash": "c2f872cd06935ef2a1767f5cf856450cce9955d85323cf4abe0d65df31f84404"
   }
  }
 },
 "nbformat": 4,
 "nbformat_minor": 2
}
