{
 "cells": [
  {
   "cell_type": "markdown",
   "metadata": {},
   "source": [
    "# Storage Class Testing Notebook"
   ]
  },
  {
   "cell_type": "code",
   "execution_count": 2,
   "metadata": {},
   "outputs": [],
   "source": [
    "from Storage import StorageSuite\n",
    "import numpy as np\n",
    "import matplotlib.pyplot as plt\n",
    "import pymgrid as pgd\n",
    "import pandas as pd\n",
    "from IPython.display import display, clear_output\n"
   ]
  },
  {
   "cell_type": "code",
   "execution_count": 2,
   "metadata": {},
   "outputs": [
    {
     "name": "stdout",
     "output_type": "stream",
     "text": [
      "55.56\n"
     ]
    }
   ],
   "source": [
    "st = round(55.556,2)\n",
    "print(st)"
   ]
  },
  {
   "cell_type": "markdown",
   "metadata": {},
   "source": [
    "Create Environment: Use StorageSuite"
   ]
  },
  {
   "cell_type": "code",
   "execution_count": 10,
   "metadata": {},
   "outputs": [
    {
     "name": "stdout",
     "output_type": "stream",
     "text": [
      "{'li-ion': <Storage.Storage object at 0x00000140235BA2C0>, 'flywheel': <Storage.Storage object at 0x00000140235BAEF0>, 'flow': <Storage.Storage object at 0x00000140235BB3D0>}\n",
      "{'li-ion': <Storage.Storage object at 0x00000140235B9D80>, 'flywheel': <Storage.Storage object at 0x00000140235B9960>, 'flow': <Storage.Storage object at 0x00000140235B9EA0>}\n"
     ]
    },
    {
     "data": {
      "text/plain": [
       "334180"
      ]
     },
     "execution_count": 10,
     "metadata": {},
     "output_type": "execute_result"
    }
   ],
   "source": [
    "# env_list = []\n",
    "# for i in range(2):\n",
    "#     env_list.append(StorageSuite(r'data\\energy_storage_devices_v6.csv',load=np.random.randint(1E5,6E5)))\n",
    "\n",
    "# if str(type(env_list[0])) != \"<class 'Storage.StorageSuite'>\":\n",
    "#             raise ValueError(f\"Please provide Storage class instances, 1 per mircogrid requested. Provided a {str(type(env_list[0]))}\")\n",
    "\n",
    "# env_list[1].load"
   ]
  },
  {
   "cell_type": "code",
   "execution_count": 6,
   "metadata": {},
   "outputs": [
    {
     "name": "stdout",
     "output_type": "stream",
     "text": [
      "{'li-ion': <Storage.Storage object at 0x00000219C8E92020>, 'flywheel': <Storage.Storage object at 0x00000219C8E924A0>, 'flow': <Storage.Storage object at 0x00000219C8E91FF0>}\n",
      "<Storage.Storage object at 0x00000219C8E92020>\n"
     ]
    }
   ],
   "source": [
    "env = StorageSuite(r'data\\energy_storage_devices_v6.csv',load=np.random.randint(1E5,6E5))\n",
    "li,flow,fly = env.unpack()\n",
    "\n"
   ]
  },
  {
   "cell_type": "code",
   "execution_count": 8,
   "metadata": {},
   "outputs": [
    {
     "name": "stdout",
     "output_type": "stream",
     "text": [
      "(<Storage.Storage object at 0x00000219C8E92020>, <Storage.Storage object at 0x00000219C8E91FF0>, <Storage.Storage object at 0x00000219C8E924A0>)\n"
     ]
    }
   ],
   "source": [
    "print(env.unpack())"
   ]
  },
  {
   "cell_type": "markdown",
   "metadata": {},
   "source": [
    "Fetching data from storage suite:"
   ]
  },
  {
   "cell_type": "code",
   "execution_count": 4,
   "metadata": {},
   "outputs": [
    {
     "ename": "NameError",
     "evalue": "name 'env' is not defined",
     "output_type": "error",
     "traceback": [
      "\u001b[1;31m---------------------------------------------------------------------------\u001b[0m",
      "\u001b[1;31mNameError\u001b[0m                                 Traceback (most recent call last)",
      "\u001b[1;32mc:\\Users\\thesu\\Desktop\\Research 2022 Microgrid\\Research code repository\\Micro-Grid-ML-algo\\Storage_Tester.ipynb Cell 7'\u001b[0m in \u001b[0;36m<module>\u001b[1;34m\u001b[0m\n\u001b[1;32m----> <a href='vscode-notebook-cell:/c%3A/Users/thesu/Desktop/Research%202022%20Microgrid/Research%20code%20repository/Micro-Grid-ML-algo/Storage_Tester.ipynb#ch0000006?line=0'>1</a>\u001b[0m mg_data \u001b[39m=\u001b[39m env\u001b[39m.\u001b[39mget_properties()\n\u001b[0;32m      <a href='vscode-notebook-cell:/c%3A/Users/thesu/Desktop/Research%202022%20Microgrid/Research%20code%20repository/Micro-Grid-ML-algo/Storage_Tester.ipynb#ch0000006?line=1'>2</a>\u001b[0m mg_stats \u001b[39m=\u001b[39m env\u001b[39m.\u001b[39mget_status_variables()\n\u001b[0;32m      <a href='vscode-notebook-cell:/c%3A/Users/thesu/Desktop/Research%202022%20Microgrid/Research%20code%20repository/Micro-Grid-ML-algo/Storage_Tester.ipynb#ch0000006?line=2'>3</a>\u001b[0m \u001b[39mfor\u001b[39;00m key \u001b[39min\u001b[39;00m mg_data:\n",
      "\u001b[1;31mNameError\u001b[0m: name 'env' is not defined"
     ]
    }
   ],
   "source": [
    "mg_data = env.get_properties()\n",
    "mg_stats = env.get_status_variables()\n",
    "for key in mg_data:\n",
    "    if key in mg_stats:\n",
    "        mg_data[key].update(mg_stats[key])\n",
    "print(mg_data['li-ion']['capital_cost'])\n",
    "# env.storage_suite['li-ion'].charge(energy_used =1)\n",
    "energy_requested = 1500\n",
    "env.storage_suite['li-ion'].discharge(energy_requested = energy_requested)\n",
    "\n",
    "\n"
   ]
  },
  {
   "cell_type": "code",
   "execution_count": null,
   "metadata": {},
   "outputs": [],
   "source": [
    "print(env.storage_suite['li-ion'].soc_cap)\n",
    "print(env.storage_suite['li-ion'].min_energy)\n"
   ]
  },
  {
   "cell_type": "code",
   "execution_count": null,
   "metadata": {},
   "outputs": [],
   "source": []
  },
  {
   "cell_type": "code",
   "execution_count": null,
   "metadata": {},
   "outputs": [],
   "source": [
    "mg_cost = env.get_capital_cost()\n",
    "print(mg_cost)"
   ]
  },
  {
   "cell_type": "code",
   "execution_count": null,
   "metadata": {},
   "outputs": [],
   "source": [
    "def _change_storage_charge(energy_sent, energy_requested, device: str) -> float:\n",
    "    \"\"\" This function checks that the constraints of the battery are respected.\"\"\"\n",
    "\n",
    "    if energy_sent < 0:\n",
    "        energy_sent = 0\n",
    "\n",
    "    if energy_requested < 0:\n",
    "        energy_requested = 0\n",
    "    \n",
    "    if energy_requested > 0 and energy_sent > 0: # Error Raising \n",
    "        raise ValueError(\"Cannot charge and discharge in the same timestep. Check your actions for conflicts\")\n",
    "\n",
    "    if energy_sent > 0:\n",
    "        energy_sent, energy_stored = env.charge(stor_type = device, energy_used = energy_sent)\n",
    "        energy_pulled, energy_requested = (0,0)\n",
    "    if energy_requested > 0:\n",
    "        energy_requested, energy_pulled = env.discharge(stor_type = device, energy_requested = energy_requested)\n",
    "        energy_stored, energy_sent = (0,0)\n",
    "\n",
    "    return  energy_stored, energy_pulled, energy_sent, energy_requested\n"
   ]
  },
  {
   "cell_type": "code",
   "execution_count": null,
   "metadata": {},
   "outputs": [],
   "source": [
    "flow_charge, flow_discharge, flow_used, flow_requested = _change_storage_charge(energy_sent=0, energy_requested= 1500, device = 'flow', )\n",
    "print(flow_used)\n",
    "print(flow_requested)"
   ]
  }
 ],
 "metadata": {
  "kernelspec": {
   "display_name": "Python 3.10.2 64-bit",
   "language": "python",
   "name": "python3"
  },
  "language_info": {
   "codemirror_mode": {
    "name": "ipython",
    "version": 3
   },
   "file_extension": ".py",
   "mimetype": "text/x-python",
   "name": "python",
   "nbconvert_exporter": "python",
   "pygments_lexer": "ipython3",
   "version": "3.10.2"
  },
  "orig_nbformat": 4,
  "vscode": {
   "interpreter": {
    "hash": "c2f872cd06935ef2a1767f5cf856450cce9955d85323cf4abe0d65df31f84404"
   }
  }
 },
 "nbformat": 4,
 "nbformat_minor": 2
}
