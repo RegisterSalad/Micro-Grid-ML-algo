{
 "cells": [
  {
   "cell_type": "markdown",
   "metadata": {},
   "source": [
    "# Storage Class Testing Notebook"
   ]
  },
  {
   "cell_type": "code",
   "execution_count": 1,
   "metadata": {},
   "outputs": [],
   "source": [
    "from Storage import StorageSuite\n",
    "import numpy as np\n",
    "import matplotlib.pyplot as plt\n",
    "import pymgrid as pgd\n",
    "import pandas as pd\n",
    "from IPython.display import display, clear_output\n"
   ]
  },
  {
   "cell_type": "markdown",
   "metadata": {},
   "source": [
    "Create Environment: Use StorageSuite"
   ]
  },
  {
   "cell_type": "code",
   "execution_count": 2,
   "metadata": {},
   "outputs": [
    {
     "name": "stdout",
     "output_type": "stream",
     "text": [
      "{'li-ion': <Storage.Storage object at 0x000001BA96E9E4D0>, 'flywheel': <Storage.Storage object at 0x000001BA96E9F5E0>, 'flow': <Storage.Storage object at 0x000001BAB0485810>}\n"
     ]
    }
   ],
   "source": [
    "env = StorageSuite(r'data\\energy_storage_devices_v6.csv',load=600)\n"
   ]
  },
  {
   "cell_type": "markdown",
   "metadata": {},
   "source": [
    "Fetching data from storage suite:"
   ]
  },
  {
   "cell_type": "code",
   "execution_count": null,
   "metadata": {},
   "outputs": [],
   "source": [
    "mg_data = env.get_properties()\n",
    "print(mg_data['flow'])"
   ]
  },
  {
   "cell_type": "code",
   "execution_count": 5,
   "metadata": {},
   "outputs": [
    {
     "name": "stdout",
     "output_type": "stream",
     "text": [
      "387580.69704\n"
     ]
    }
   ],
   "source": [
    "mg_cost = env.get_capital_cost()\n",
    "print(mg_cost)"
   ]
  }
 ],
 "metadata": {
  "kernelspec": {
   "display_name": "Python 3.10.2 64-bit",
   "language": "python",
   "name": "python3"
  },
  "language_info": {
   "codemirror_mode": {
    "name": "ipython",
    "version": 3
   },
   "file_extension": ".py",
   "mimetype": "text/x-python",
   "name": "python",
   "nbconvert_exporter": "python",
   "pygments_lexer": "ipython3",
   "version": "3.10.2"
  },
  "orig_nbformat": 4,
  "vscode": {
   "interpreter": {
    "hash": "c2f872cd06935ef2a1767f5cf856450cce9955d85323cf4abe0d65df31f84404"
   }
  }
 },
 "nbformat": 4,
 "nbformat_minor": 2
}
