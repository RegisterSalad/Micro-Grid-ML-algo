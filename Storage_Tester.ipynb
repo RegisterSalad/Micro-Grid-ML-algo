{
 "cells": [
  {
   "cell_type": "markdown",
   "metadata": {},
   "source": [
    "# Storage Class Testing Notebook"
   ]
  },
  {
   "cell_type": "code",
   "execution_count": 1,
   "metadata": {},
   "outputs": [],
   "source": [
    "from Storage import StorageSuite\n",
    "import numpy as np\n",
    "import matplotlib.pyplot as plt\n",
    "import pymgrid as pgd\n",
    "import pandas as pd\n",
    "from IPython.display import display, clear_output\n"
   ]
  },
  {
   "cell_type": "markdown",
   "metadata": {},
   "source": [
    "Create Environment: Use StorageSuite"
   ]
  },
  {
   "cell_type": "code",
   "execution_count": 2,
   "metadata": {},
   "outputs": [
    {
     "name": "stdout",
     "output_type": "stream",
     "text": [
      "{'li-ion': <Storage.Storage object at 0x000002BC36AF95D0>, 'flywheel': <Storage.Storage object at 0x000002BC36AF9420>, 'flow': <Storage.Storage object at 0x000002BC36AF98A0>}\n"
     ]
    }
   ],
   "source": [
    "env = StorageSuite(r'data\\energy_storage_devices_v6.csv',load=600)\n"
   ]
  },
  {
   "cell_type": "markdown",
   "metadata": {},
   "source": [
    "Fetching data from storage suite:"
   ]
  },
  {
   "cell_type": "code",
   "execution_count": 23,
   "metadata": {},
   "outputs": [
    {
     "name": "stdout",
     "output_type": "stream",
     "text": [
      "{'li-ion': {'type': 'li-ion', 'capacity': 150.0, 'max_cont_power': 9000.0, 'max_soc': '1', 'min_soc': '0.05', 'max_energy': 150.0, 'min_energy': 150.0, 'max_peak_power': 90.0, 'capital_cost': 97500.0, 'marginal_cost': '', 'resp_time': '', 'max_peak_time': '10', 'soc': 0.85, 'stored_energy': 127.5, 'eff_charge': 0.95, 'eff_discharge': 0.95, 'self_discharge': -2.831762470435642e-07, 'peak_time_left': '10'}, 'flywheel': {'type': 'flywheel', 'capacity': 150.0, 'max_cont_power': 4837.5, 'max_soc': '1', 'min_soc': '0.14', 'max_energy': 150.0, 'min_energy': 150.0, 'max_peak_power': 32.25, 'capital_cost': 225000.0, 'marginal_cost': '', 'resp_time': '<1s', 'max_peak_time': '', 'soc': 0.85, 'stored_energy': 127.5, 'eff_charge': 0.020917590988338695, 'eff_discharge': 0.020917590988338695, 'self_discharge': 0.10580204641849963, 'peak_time_left': ''}, 'flow': {'type': 'flow', 'capacity': 150.0, 'max_cont_power': 27000.0, 'max_soc': '1', 'min_soc': '0', 'max_energy': 150.0, 'min_energy': 150.0, 'max_peak_power': 180.0, 'capital_cost': 32846111.254000004, 'marginal_cost': '', 'resp_time': '<1s', 'max_peak_time': '', 'soc': 0.85, 'stored_energy': 127.5, 'eff_charge': 0.883, 'eff_discharge': 0.883, 'self_discharge': 0, 'peak_time_left': ''}}\n"
     ]
    }
   ],
   "source": [
    "mg_data = env.get_properties()\n",
    "mg_stats = env.get_status_variables()\n",
    "for key in mg_data:\n",
    "    if key in mg_stats:\n",
    "        mg_data[key].update(mg_stats[key])\n",
    "print(mg_data)\n"
   ]
  },
  {
   "cell_type": "code",
   "execution_count": 4,
   "metadata": {},
   "outputs": [
    {
     "name": "stdout",
     "output_type": "stream",
     "text": [
      "33168611.254000004\n"
     ]
    }
   ],
   "source": [
    "mg_cost = env.get_capital_cost()\n",
    "print(mg_cost)"
   ]
  }
 ],
 "metadata": {
  "kernelspec": {
   "display_name": "Python 3.10.2 64-bit",
   "language": "python",
   "name": "python3"
  },
  "language_info": {
   "codemirror_mode": {
    "name": "ipython",
    "version": 3
   },
   "file_extension": ".py",
   "mimetype": "text/x-python",
   "name": "python",
   "nbconvert_exporter": "python",
   "pygments_lexer": "ipython3",
   "version": "3.10.2"
  },
  "orig_nbformat": 4,
  "vscode": {
   "interpreter": {
    "hash": "c2f872cd06935ef2a1767f5cf856450cce9955d85323cf4abe0d65df31f84404"
   }
  }
 },
 "nbformat": 4,
 "nbformat_minor": 2
}
